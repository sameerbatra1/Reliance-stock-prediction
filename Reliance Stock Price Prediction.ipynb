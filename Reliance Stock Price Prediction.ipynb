{
 "cells": [
  {
   "cell_type": "code",
   "execution_count": 1,
   "id": "c557c687",
   "metadata": {},
   "outputs": [],
   "source": [
    "import pandas as pd\n",
    "import numpy as np\n",
    "import matplotlib.pyplot as plt"
   ]
  },
  {
   "cell_type": "markdown",
   "id": "6545a696",
   "metadata": {},
   "source": [
    "# Data"
   ]
  },
  {
   "cell_type": "markdown",
   "id": "412c3a0b",
   "metadata": {},
   "source": [
    "### Importing data"
   ]
  },
  {
   "cell_type": "code",
   "execution_count": 2,
   "id": "99b1f43f",
   "metadata": {},
   "outputs": [
    {
     "data": {
      "text/html": [
       "<div>\n",
       "<style scoped>\n",
       "    .dataframe tbody tr th:only-of-type {\n",
       "        vertical-align: middle;\n",
       "    }\n",
       "\n",
       "    .dataframe tbody tr th {\n",
       "        vertical-align: top;\n",
       "    }\n",
       "\n",
       "    .dataframe thead th {\n",
       "        text-align: right;\n",
       "    }\n",
       "</style>\n",
       "<table border=\"1\" class=\"dataframe\">\n",
       "  <thead>\n",
       "    <tr style=\"text-align: right;\">\n",
       "      <th></th>\n",
       "      <th>Date</th>\n",
       "      <th>Open</th>\n",
       "      <th>High</th>\n",
       "      <th>Low</th>\n",
       "      <th>Close</th>\n",
       "      <th>Adj Close</th>\n",
       "      <th>Volume</th>\n",
       "    </tr>\n",
       "  </thead>\n",
       "  <tbody>\n",
       "    <tr>\n",
       "      <th>0</th>\n",
       "      <td>1996-01-02</td>\n",
       "      <td>15.878770</td>\n",
       "      <td>15.956133</td>\n",
       "      <td>15.677626</td>\n",
       "      <td>15.793671</td>\n",
       "      <td>10.396508</td>\n",
       "      <td>77875009.0</td>\n",
       "    </tr>\n",
       "    <tr>\n",
       "      <th>1</th>\n",
       "      <td>1996-01-03</td>\n",
       "      <td>16.052837</td>\n",
       "      <td>16.783918</td>\n",
       "      <td>15.878770</td>\n",
       "      <td>15.913584</td>\n",
       "      <td>10.475444</td>\n",
       "      <td>96602936.0</td>\n",
       "    </tr>\n",
       "    <tr>\n",
       "      <th>2</th>\n",
       "      <td>1996-01-04</td>\n",
       "      <td>15.762726</td>\n",
       "      <td>15.813012</td>\n",
       "      <td>15.553845</td>\n",
       "      <td>15.766594</td>\n",
       "      <td>10.378684</td>\n",
       "      <td>100099436.0</td>\n",
       "    </tr>\n",
       "    <tr>\n",
       "      <th>3</th>\n",
       "      <td>1996-01-05</td>\n",
       "      <td>15.704703</td>\n",
       "      <td>15.704703</td>\n",
       "      <td>15.522900</td>\n",
       "      <td>15.658285</td>\n",
       "      <td>10.307388</td>\n",
       "      <td>76935930.0</td>\n",
       "    </tr>\n",
       "    <tr>\n",
       "      <th>4</th>\n",
       "      <td>1996-01-08</td>\n",
       "      <td>15.627340</td>\n",
       "      <td>15.638945</td>\n",
       "      <td>14.876918</td>\n",
       "      <td>15.031645</td>\n",
       "      <td>9.894890</td>\n",
       "      <td>86288584.0</td>\n",
       "    </tr>\n",
       "    <tr>\n",
       "      <th>...</th>\n",
       "      <td>...</td>\n",
       "      <td>...</td>\n",
       "      <td>...</td>\n",
       "      <td>...</td>\n",
       "      <td>...</td>\n",
       "      <td>...</td>\n",
       "      <td>...</td>\n",
       "    </tr>\n",
       "    <tr>\n",
       "      <th>6859</th>\n",
       "      <td>2023-03-29</td>\n",
       "      <td>2239.000000</td>\n",
       "      <td>2244.800049</td>\n",
       "      <td>2211.100098</td>\n",
       "      <td>2234.699951</td>\n",
       "      <td>2234.699951</td>\n",
       "      <td>8678073.0</td>\n",
       "    </tr>\n",
       "    <tr>\n",
       "      <th>6860</th>\n",
       "      <td>2023-03-31</td>\n",
       "      <td>2255.000000</td>\n",
       "      <td>2343.449951</td>\n",
       "      <td>2254.699951</td>\n",
       "      <td>2331.050049</td>\n",
       "      <td>2331.050049</td>\n",
       "      <td>13001005.0</td>\n",
       "    </tr>\n",
       "    <tr>\n",
       "      <th>6861</th>\n",
       "      <td>2023-04-03</td>\n",
       "      <td>2345.000000</td>\n",
       "      <td>2349.000000</td>\n",
       "      <td>2315.000000</td>\n",
       "      <td>2331.449951</td>\n",
       "      <td>2331.449951</td>\n",
       "      <td>4750238.0</td>\n",
       "    </tr>\n",
       "    <tr>\n",
       "      <th>6862</th>\n",
       "      <td>2023-04-05</td>\n",
       "      <td>2348.000000</td>\n",
       "      <td>2348.000000</td>\n",
       "      <td>2308.550049</td>\n",
       "      <td>2325.850098</td>\n",
       "      <td>2325.850098</td>\n",
       "      <td>7505339.0</td>\n",
       "    </tr>\n",
       "    <tr>\n",
       "      <th>6863</th>\n",
       "      <td>2023-04-06</td>\n",
       "      <td>2318.149902</td>\n",
       "      <td>2354.000000</td>\n",
       "      <td>2318.149902</td>\n",
       "      <td>2341.449951</td>\n",
       "      <td>2341.449951</td>\n",
       "      <td>8507771.0</td>\n",
       "    </tr>\n",
       "  </tbody>\n",
       "</table>\n",
       "<p>6864 rows × 7 columns</p>\n",
       "</div>"
      ],
      "text/plain": [
       "            Date         Open         High          Low        Close  \\\n",
       "0     1996-01-02    15.878770    15.956133    15.677626    15.793671   \n",
       "1     1996-01-03    16.052837    16.783918    15.878770    15.913584   \n",
       "2     1996-01-04    15.762726    15.813012    15.553845    15.766594   \n",
       "3     1996-01-05    15.704703    15.704703    15.522900    15.658285   \n",
       "4     1996-01-08    15.627340    15.638945    14.876918    15.031645   \n",
       "...          ...          ...          ...          ...          ...   \n",
       "6859  2023-03-29  2239.000000  2244.800049  2211.100098  2234.699951   \n",
       "6860  2023-03-31  2255.000000  2343.449951  2254.699951  2331.050049   \n",
       "6861  2023-04-03  2345.000000  2349.000000  2315.000000  2331.449951   \n",
       "6862  2023-04-05  2348.000000  2348.000000  2308.550049  2325.850098   \n",
       "6863  2023-04-06  2318.149902  2354.000000  2318.149902  2341.449951   \n",
       "\n",
       "        Adj Close       Volume  \n",
       "0       10.396508   77875009.0  \n",
       "1       10.475444   96602936.0  \n",
       "2       10.378684  100099436.0  \n",
       "3       10.307388   76935930.0  \n",
       "4        9.894890   86288584.0  \n",
       "...           ...          ...  \n",
       "6859  2234.699951    8678073.0  \n",
       "6860  2331.050049   13001005.0  \n",
       "6861  2331.449951    4750238.0  \n",
       "6862  2325.850098    7505339.0  \n",
       "6863  2341.449951    8507771.0  \n",
       "\n",
       "[6864 rows x 7 columns]"
      ]
     },
     "execution_count": 2,
     "metadata": {},
     "output_type": "execute_result"
    }
   ],
   "source": [
    "df = pd.read_csv(\"data/1_RELIANCE.NS.csv\")\n",
    "df"
   ]
  },
  {
   "cell_type": "markdown",
   "id": "741e3fdd",
   "metadata": {},
   "source": [
    "### Analyzing data"
   ]
  },
  {
   "cell_type": "code",
   "execution_count": 3,
   "id": "0785a96a",
   "metadata": {},
   "outputs": [
    {
     "name": "stdout",
     "output_type": "stream",
     "text": [
      "<class 'pandas.core.frame.DataFrame'>\n",
      "RangeIndex: 6864 entries, 0 to 6863\n",
      "Data columns (total 7 columns):\n",
      " #   Column     Non-Null Count  Dtype  \n",
      "---  ------     --------------  -----  \n",
      " 0   Date       6864 non-null   object \n",
      " 1   Open       6854 non-null   float64\n",
      " 2   High       6854 non-null   float64\n",
      " 3   Low        6854 non-null   float64\n",
      " 4   Close      6854 non-null   float64\n",
      " 5   Adj Close  6854 non-null   float64\n",
      " 6   Volume     6854 non-null   float64\n",
      "dtypes: float64(6), object(1)\n",
      "memory usage: 375.5+ KB\n"
     ]
    }
   ],
   "source": [
    "df.info()"
   ]
  },
  {
   "cell_type": "code",
   "execution_count": 4,
   "id": "8d9199b6",
   "metadata": {},
   "outputs": [
    {
     "data": {
      "text/html": [
       "<div>\n",
       "<style scoped>\n",
       "    .dataframe tbody tr th:only-of-type {\n",
       "        vertical-align: middle;\n",
       "    }\n",
       "\n",
       "    .dataframe tbody tr th {\n",
       "        vertical-align: top;\n",
       "    }\n",
       "\n",
       "    .dataframe thead th {\n",
       "        text-align: right;\n",
       "    }\n",
       "</style>\n",
       "<table border=\"1\" class=\"dataframe\">\n",
       "  <thead>\n",
       "    <tr style=\"text-align: right;\">\n",
       "      <th></th>\n",
       "      <th>Open</th>\n",
       "      <th>High</th>\n",
       "      <th>Low</th>\n",
       "      <th>Close</th>\n",
       "      <th>Adj Close</th>\n",
       "      <th>Volume</th>\n",
       "    </tr>\n",
       "  </thead>\n",
       "  <tbody>\n",
       "    <tr>\n",
       "      <th>count</th>\n",
       "      <td>6854.000000</td>\n",
       "      <td>6854.000000</td>\n",
       "      <td>6854.000000</td>\n",
       "      <td>6854.000000</td>\n",
       "      <td>6854.000000</td>\n",
       "      <td>6.854000e+03</td>\n",
       "    </tr>\n",
       "    <tr>\n",
       "      <th>mean</th>\n",
       "      <td>561.214367</td>\n",
       "      <td>567.989559</td>\n",
       "      <td>553.892609</td>\n",
       "      <td>560.659326</td>\n",
       "      <td>540.999078</td>\n",
       "      <td>2.887217e+07</td>\n",
       "    </tr>\n",
       "    <tr>\n",
       "      <th>std</th>\n",
       "      <td>684.040719</td>\n",
       "      <td>691.370900</td>\n",
       "      <td>676.106817</td>\n",
       "      <td>683.411827</td>\n",
       "      <td>684.524174</td>\n",
       "      <td>4.833373e+07</td>\n",
       "    </tr>\n",
       "    <tr>\n",
       "      <th>min</th>\n",
       "      <td>11.836550</td>\n",
       "      <td>11.890704</td>\n",
       "      <td>11.763055</td>\n",
       "      <td>11.890704</td>\n",
       "      <td>7.827301</td>\n",
       "      <td>0.000000e+00</td>\n",
       "    </tr>\n",
       "    <tr>\n",
       "      <th>25%</th>\n",
       "      <td>51.995720</td>\n",
       "      <td>52.734539</td>\n",
       "      <td>51.069298</td>\n",
       "      <td>52.067281</td>\n",
       "      <td>40.694492</td>\n",
       "      <td>6.688851e+06</td>\n",
       "    </tr>\n",
       "    <tr>\n",
       "      <th>50%</th>\n",
       "      <td>410.954559</td>\n",
       "      <td>415.560913</td>\n",
       "      <td>404.948990</td>\n",
       "      <td>410.261139</td>\n",
       "      <td>379.914611</td>\n",
       "      <td>1.222644e+07</td>\n",
       "    </tr>\n",
       "    <tr>\n",
       "      <th>75%</th>\n",
       "      <td>558.691666</td>\n",
       "      <td>567.124207</td>\n",
       "      <td>545.550629</td>\n",
       "      <td>556.323502</td>\n",
       "      <td>515.695495</td>\n",
       "      <td>3.072089e+07</td>\n",
       "    </tr>\n",
       "    <tr>\n",
       "      <th>max</th>\n",
       "      <td>2856.149902</td>\n",
       "      <td>2856.149902</td>\n",
       "      <td>2786.100098</td>\n",
       "      <td>2819.850098</td>\n",
       "      <td>2811.385742</td>\n",
       "      <td>6.686620e+08</td>\n",
       "    </tr>\n",
       "  </tbody>\n",
       "</table>\n",
       "</div>"
      ],
      "text/plain": [
       "              Open         High          Low        Close    Adj Close  \\\n",
       "count  6854.000000  6854.000000  6854.000000  6854.000000  6854.000000   \n",
       "mean    561.214367   567.989559   553.892609   560.659326   540.999078   \n",
       "std     684.040719   691.370900   676.106817   683.411827   684.524174   \n",
       "min      11.836550    11.890704    11.763055    11.890704     7.827301   \n",
       "25%      51.995720    52.734539    51.069298    52.067281    40.694492   \n",
       "50%     410.954559   415.560913   404.948990   410.261139   379.914611   \n",
       "75%     558.691666   567.124207   545.550629   556.323502   515.695495   \n",
       "max    2856.149902  2856.149902  2786.100098  2819.850098  2811.385742   \n",
       "\n",
       "             Volume  \n",
       "count  6.854000e+03  \n",
       "mean   2.887217e+07  \n",
       "std    4.833373e+07  \n",
       "min    0.000000e+00  \n",
       "25%    6.688851e+06  \n",
       "50%    1.222644e+07  \n",
       "75%    3.072089e+07  \n",
       "max    6.686620e+08  "
      ]
     },
     "execution_count": 4,
     "metadata": {},
     "output_type": "execute_result"
    }
   ],
   "source": [
    "df.describe()"
   ]
  },
  {
   "cell_type": "code",
   "execution_count": 5,
   "id": "e3f5b5fc",
   "metadata": {},
   "outputs": [
    {
     "data": {
      "text/plain": [
       "Date          0\n",
       "Open         10\n",
       "High         10\n",
       "Low          10\n",
       "Close        10\n",
       "Adj Close    10\n",
       "Volume       10\n",
       "dtype: int64"
      ]
     },
     "execution_count": 5,
     "metadata": {},
     "output_type": "execute_result"
    }
   ],
   "source": [
    "df.isna().sum()"
   ]
  },
  {
   "cell_type": "code",
   "execution_count": 6,
   "id": "86bf7442",
   "metadata": {},
   "outputs": [
    {
     "name": "stdout",
     "output_type": "stream",
     "text": [
      "Int64Index([1899, 2169, 2291, 3607, 4085, 4124, 4254, 4296, 4633, 4862], dtype='int64')\n"
     ]
    }
   ],
   "source": [
    "# finding the index labels of rows containing null values\n",
    "null_rows = df[df.isnull().any(axis=1)].index\n",
    "\n",
    "# print the index labels\n",
    "print(null_rows)"
   ]
  },
  {
   "cell_type": "code",
   "execution_count": 7,
   "id": "e1efd675",
   "metadata": {},
   "outputs": [
    {
     "data": {
      "text/html": [
       "<div>\n",
       "<style scoped>\n",
       "    .dataframe tbody tr th:only-of-type {\n",
       "        vertical-align: middle;\n",
       "    }\n",
       "\n",
       "    .dataframe tbody tr th {\n",
       "        vertical-align: top;\n",
       "    }\n",
       "\n",
       "    .dataframe thead th {\n",
       "        text-align: right;\n",
       "    }\n",
       "</style>\n",
       "<table border=\"1\" class=\"dataframe\">\n",
       "  <thead>\n",
       "    <tr style=\"text-align: right;\">\n",
       "      <th></th>\n",
       "      <th>Date</th>\n",
       "      <th>Open</th>\n",
       "      <th>High</th>\n",
       "      <th>Low</th>\n",
       "      <th>Close</th>\n",
       "      <th>Adj Close</th>\n",
       "      <th>Volume</th>\n",
       "    </tr>\n",
       "  </thead>\n",
       "  <tbody>\n",
       "    <tr>\n",
       "      <th>0</th>\n",
       "      <td>1996-01-02</td>\n",
       "      <td>15.878770</td>\n",
       "      <td>15.956133</td>\n",
       "      <td>15.677626</td>\n",
       "      <td>15.793671</td>\n",
       "      <td>10.396508</td>\n",
       "      <td>77875009.0</td>\n",
       "    </tr>\n",
       "    <tr>\n",
       "      <th>1</th>\n",
       "      <td>1996-01-03</td>\n",
       "      <td>16.052837</td>\n",
       "      <td>16.783918</td>\n",
       "      <td>15.878770</td>\n",
       "      <td>15.913584</td>\n",
       "      <td>10.475444</td>\n",
       "      <td>96602936.0</td>\n",
       "    </tr>\n",
       "    <tr>\n",
       "      <th>2</th>\n",
       "      <td>1996-01-04</td>\n",
       "      <td>15.762726</td>\n",
       "      <td>15.813012</td>\n",
       "      <td>15.553845</td>\n",
       "      <td>15.766594</td>\n",
       "      <td>10.378684</td>\n",
       "      <td>100099436.0</td>\n",
       "    </tr>\n",
       "    <tr>\n",
       "      <th>3</th>\n",
       "      <td>1996-01-05</td>\n",
       "      <td>15.704703</td>\n",
       "      <td>15.704703</td>\n",
       "      <td>15.522900</td>\n",
       "      <td>15.658285</td>\n",
       "      <td>10.307388</td>\n",
       "      <td>76935930.0</td>\n",
       "    </tr>\n",
       "    <tr>\n",
       "      <th>4</th>\n",
       "      <td>1996-01-08</td>\n",
       "      <td>15.627340</td>\n",
       "      <td>15.638945</td>\n",
       "      <td>14.876918</td>\n",
       "      <td>15.031645</td>\n",
       "      <td>9.894890</td>\n",
       "      <td>86288584.0</td>\n",
       "    </tr>\n",
       "    <tr>\n",
       "      <th>...</th>\n",
       "      <td>...</td>\n",
       "      <td>...</td>\n",
       "      <td>...</td>\n",
       "      <td>...</td>\n",
       "      <td>...</td>\n",
       "      <td>...</td>\n",
       "      <td>...</td>\n",
       "    </tr>\n",
       "    <tr>\n",
       "      <th>6859</th>\n",
       "      <td>2023-03-29</td>\n",
       "      <td>2239.000000</td>\n",
       "      <td>2244.800049</td>\n",
       "      <td>2211.100098</td>\n",
       "      <td>2234.699951</td>\n",
       "      <td>2234.699951</td>\n",
       "      <td>8678073.0</td>\n",
       "    </tr>\n",
       "    <tr>\n",
       "      <th>6860</th>\n",
       "      <td>2023-03-31</td>\n",
       "      <td>2255.000000</td>\n",
       "      <td>2343.449951</td>\n",
       "      <td>2254.699951</td>\n",
       "      <td>2331.050049</td>\n",
       "      <td>2331.050049</td>\n",
       "      <td>13001005.0</td>\n",
       "    </tr>\n",
       "    <tr>\n",
       "      <th>6861</th>\n",
       "      <td>2023-04-03</td>\n",
       "      <td>2345.000000</td>\n",
       "      <td>2349.000000</td>\n",
       "      <td>2315.000000</td>\n",
       "      <td>2331.449951</td>\n",
       "      <td>2331.449951</td>\n",
       "      <td>4750238.0</td>\n",
       "    </tr>\n",
       "    <tr>\n",
       "      <th>6862</th>\n",
       "      <td>2023-04-05</td>\n",
       "      <td>2348.000000</td>\n",
       "      <td>2348.000000</td>\n",
       "      <td>2308.550049</td>\n",
       "      <td>2325.850098</td>\n",
       "      <td>2325.850098</td>\n",
       "      <td>7505339.0</td>\n",
       "    </tr>\n",
       "    <tr>\n",
       "      <th>6863</th>\n",
       "      <td>2023-04-06</td>\n",
       "      <td>2318.149902</td>\n",
       "      <td>2354.000000</td>\n",
       "      <td>2318.149902</td>\n",
       "      <td>2341.449951</td>\n",
       "      <td>2341.449951</td>\n",
       "      <td>8507771.0</td>\n",
       "    </tr>\n",
       "  </tbody>\n",
       "</table>\n",
       "<p>6854 rows × 7 columns</p>\n",
       "</div>"
      ],
      "text/plain": [
       "            Date         Open         High          Low        Close  \\\n",
       "0     1996-01-02    15.878770    15.956133    15.677626    15.793671   \n",
       "1     1996-01-03    16.052837    16.783918    15.878770    15.913584   \n",
       "2     1996-01-04    15.762726    15.813012    15.553845    15.766594   \n",
       "3     1996-01-05    15.704703    15.704703    15.522900    15.658285   \n",
       "4     1996-01-08    15.627340    15.638945    14.876918    15.031645   \n",
       "...          ...          ...          ...          ...          ...   \n",
       "6859  2023-03-29  2239.000000  2244.800049  2211.100098  2234.699951   \n",
       "6860  2023-03-31  2255.000000  2343.449951  2254.699951  2331.050049   \n",
       "6861  2023-04-03  2345.000000  2349.000000  2315.000000  2331.449951   \n",
       "6862  2023-04-05  2348.000000  2348.000000  2308.550049  2325.850098   \n",
       "6863  2023-04-06  2318.149902  2354.000000  2318.149902  2341.449951   \n",
       "\n",
       "        Adj Close       Volume  \n",
       "0       10.396508   77875009.0  \n",
       "1       10.475444   96602936.0  \n",
       "2       10.378684  100099436.0  \n",
       "3       10.307388   76935930.0  \n",
       "4        9.894890   86288584.0  \n",
       "...           ...          ...  \n",
       "6859  2234.699951    8678073.0  \n",
       "6860  2331.050049   13001005.0  \n",
       "6861  2331.449951    4750238.0  \n",
       "6862  2325.850098    7505339.0  \n",
       "6863  2341.449951    8507771.0  \n",
       "\n",
       "[6854 rows x 7 columns]"
      ]
     },
     "execution_count": 7,
     "metadata": {},
     "output_type": "execute_result"
    }
   ],
   "source": [
    "df = df.dropna()\n",
    "df"
   ]
  },
  {
   "cell_type": "code",
   "execution_count": 8,
   "id": "f1292634",
   "metadata": {},
   "outputs": [
    {
     "data": {
      "text/plain": [
       "Date         0\n",
       "Open         0\n",
       "High         0\n",
       "Low          0\n",
       "Close        0\n",
       "Adj Close    0\n",
       "Volume       0\n",
       "dtype: int64"
      ]
     },
     "execution_count": 8,
     "metadata": {},
     "output_type": "execute_result"
    }
   ],
   "source": [
    "df.isna().sum()"
   ]
  },
  {
   "cell_type": "markdown",
   "id": "39b2a3b4",
   "metadata": {},
   "source": [
    "### Converting object variable `date` to datetime"
   ]
  },
  {
   "cell_type": "code",
   "execution_count": 9,
   "id": "83b7383d",
   "metadata": {},
   "outputs": [
    {
     "name": "stdout",
     "output_type": "stream",
     "text": [
      "<class 'pandas.core.frame.DataFrame'>\n",
      "Int64Index: 6854 entries, 0 to 6863\n",
      "Data columns (total 7 columns):\n",
      " #   Column     Non-Null Count  Dtype  \n",
      "---  ------     --------------  -----  \n",
      " 0   Date       6854 non-null   object \n",
      " 1   Open       6854 non-null   float64\n",
      " 2   High       6854 non-null   float64\n",
      " 3   Low        6854 non-null   float64\n",
      " 4   Close      6854 non-null   float64\n",
      " 5   Adj Close  6854 non-null   float64\n",
      " 6   Volume     6854 non-null   float64\n",
      "dtypes: float64(6), object(1)\n",
      "memory usage: 428.4+ KB\n"
     ]
    }
   ],
   "source": [
    "df.info()"
   ]
  },
  {
   "cell_type": "code",
   "execution_count": 10,
   "id": "c36eed88",
   "metadata": {},
   "outputs": [
    {
     "data": {
      "text/html": [
       "<div>\n",
       "<style scoped>\n",
       "    .dataframe tbody tr th:only-of-type {\n",
       "        vertical-align: middle;\n",
       "    }\n",
       "\n",
       "    .dataframe tbody tr th {\n",
       "        vertical-align: top;\n",
       "    }\n",
       "\n",
       "    .dataframe thead th {\n",
       "        text-align: right;\n",
       "    }\n",
       "</style>\n",
       "<table border=\"1\" class=\"dataframe\">\n",
       "  <thead>\n",
       "    <tr style=\"text-align: right;\">\n",
       "      <th></th>\n",
       "      <th>Date</th>\n",
       "      <th>Open</th>\n",
       "      <th>High</th>\n",
       "      <th>Low</th>\n",
       "      <th>Close</th>\n",
       "      <th>Adj Close</th>\n",
       "      <th>Volume</th>\n",
       "    </tr>\n",
       "  </thead>\n",
       "  <tbody>\n",
       "    <tr>\n",
       "      <th>0</th>\n",
       "      <td>1996-01-02</td>\n",
       "      <td>15.878770</td>\n",
       "      <td>15.956133</td>\n",
       "      <td>15.677626</td>\n",
       "      <td>15.793671</td>\n",
       "      <td>10.396508</td>\n",
       "      <td>77875009.0</td>\n",
       "    </tr>\n",
       "    <tr>\n",
       "      <th>1</th>\n",
       "      <td>1996-01-03</td>\n",
       "      <td>16.052837</td>\n",
       "      <td>16.783918</td>\n",
       "      <td>15.878770</td>\n",
       "      <td>15.913584</td>\n",
       "      <td>10.475444</td>\n",
       "      <td>96602936.0</td>\n",
       "    </tr>\n",
       "    <tr>\n",
       "      <th>2</th>\n",
       "      <td>1996-01-04</td>\n",
       "      <td>15.762726</td>\n",
       "      <td>15.813012</td>\n",
       "      <td>15.553845</td>\n",
       "      <td>15.766594</td>\n",
       "      <td>10.378684</td>\n",
       "      <td>100099436.0</td>\n",
       "    </tr>\n",
       "    <tr>\n",
       "      <th>3</th>\n",
       "      <td>1996-01-05</td>\n",
       "      <td>15.704703</td>\n",
       "      <td>15.704703</td>\n",
       "      <td>15.522900</td>\n",
       "      <td>15.658285</td>\n",
       "      <td>10.307388</td>\n",
       "      <td>76935930.0</td>\n",
       "    </tr>\n",
       "    <tr>\n",
       "      <th>4</th>\n",
       "      <td>1996-01-08</td>\n",
       "      <td>15.627340</td>\n",
       "      <td>15.638945</td>\n",
       "      <td>14.876918</td>\n",
       "      <td>15.031645</td>\n",
       "      <td>9.894890</td>\n",
       "      <td>86288584.0</td>\n",
       "    </tr>\n",
       "    <tr>\n",
       "      <th>...</th>\n",
       "      <td>...</td>\n",
       "      <td>...</td>\n",
       "      <td>...</td>\n",
       "      <td>...</td>\n",
       "      <td>...</td>\n",
       "      <td>...</td>\n",
       "      <td>...</td>\n",
       "    </tr>\n",
       "    <tr>\n",
       "      <th>6859</th>\n",
       "      <td>2023-03-29</td>\n",
       "      <td>2239.000000</td>\n",
       "      <td>2244.800049</td>\n",
       "      <td>2211.100098</td>\n",
       "      <td>2234.699951</td>\n",
       "      <td>2234.699951</td>\n",
       "      <td>8678073.0</td>\n",
       "    </tr>\n",
       "    <tr>\n",
       "      <th>6860</th>\n",
       "      <td>2023-03-31</td>\n",
       "      <td>2255.000000</td>\n",
       "      <td>2343.449951</td>\n",
       "      <td>2254.699951</td>\n",
       "      <td>2331.050049</td>\n",
       "      <td>2331.050049</td>\n",
       "      <td>13001005.0</td>\n",
       "    </tr>\n",
       "    <tr>\n",
       "      <th>6861</th>\n",
       "      <td>2023-04-03</td>\n",
       "      <td>2345.000000</td>\n",
       "      <td>2349.000000</td>\n",
       "      <td>2315.000000</td>\n",
       "      <td>2331.449951</td>\n",
       "      <td>2331.449951</td>\n",
       "      <td>4750238.0</td>\n",
       "    </tr>\n",
       "    <tr>\n",
       "      <th>6862</th>\n",
       "      <td>2023-04-05</td>\n",
       "      <td>2348.000000</td>\n",
       "      <td>2348.000000</td>\n",
       "      <td>2308.550049</td>\n",
       "      <td>2325.850098</td>\n",
       "      <td>2325.850098</td>\n",
       "      <td>7505339.0</td>\n",
       "    </tr>\n",
       "    <tr>\n",
       "      <th>6863</th>\n",
       "      <td>2023-04-06</td>\n",
       "      <td>2318.149902</td>\n",
       "      <td>2354.000000</td>\n",
       "      <td>2318.149902</td>\n",
       "      <td>2341.449951</td>\n",
       "      <td>2341.449951</td>\n",
       "      <td>8507771.0</td>\n",
       "    </tr>\n",
       "  </tbody>\n",
       "</table>\n",
       "<p>6854 rows × 7 columns</p>\n",
       "</div>"
      ],
      "text/plain": [
       "            Date         Open         High          Low        Close  \\\n",
       "0     1996-01-02    15.878770    15.956133    15.677626    15.793671   \n",
       "1     1996-01-03    16.052837    16.783918    15.878770    15.913584   \n",
       "2     1996-01-04    15.762726    15.813012    15.553845    15.766594   \n",
       "3     1996-01-05    15.704703    15.704703    15.522900    15.658285   \n",
       "4     1996-01-08    15.627340    15.638945    14.876918    15.031645   \n",
       "...          ...          ...          ...          ...          ...   \n",
       "6859  2023-03-29  2239.000000  2244.800049  2211.100098  2234.699951   \n",
       "6860  2023-03-31  2255.000000  2343.449951  2254.699951  2331.050049   \n",
       "6861  2023-04-03  2345.000000  2349.000000  2315.000000  2331.449951   \n",
       "6862  2023-04-05  2348.000000  2348.000000  2308.550049  2325.850098   \n",
       "6863  2023-04-06  2318.149902  2354.000000  2318.149902  2341.449951   \n",
       "\n",
       "        Adj Close       Volume  \n",
       "0       10.396508   77875009.0  \n",
       "1       10.475444   96602936.0  \n",
       "2       10.378684  100099436.0  \n",
       "3       10.307388   76935930.0  \n",
       "4        9.894890   86288584.0  \n",
       "...           ...          ...  \n",
       "6859  2234.699951    8678073.0  \n",
       "6860  2331.050049   13001005.0  \n",
       "6861  2331.449951    4750238.0  \n",
       "6862  2325.850098    7505339.0  \n",
       "6863  2341.449951    8507771.0  \n",
       "\n",
       "[6854 rows x 7 columns]"
      ]
     },
     "execution_count": 10,
     "metadata": {},
     "output_type": "execute_result"
    }
   ],
   "source": [
    "df"
   ]
  },
  {
   "cell_type": "code",
   "execution_count": 11,
   "id": "b5dd3f75",
   "metadata": {},
   "outputs": [
    {
     "name": "stderr",
     "output_type": "stream",
     "text": [
      "C:\\Users\\samee\\AppData\\Local\\Temp\\ipykernel_17220\\936118274.py:1: SettingWithCopyWarning: \n",
      "A value is trying to be set on a copy of a slice from a DataFrame.\n",
      "Try using .loc[row_indexer,col_indexer] = value instead\n",
      "\n",
      "See the caveats in the documentation: https://pandas.pydata.org/pandas-docs/stable/user_guide/indexing.html#returning-a-view-versus-a-copy\n",
      "  df[\"Date\"] = pd.to_datetime(df[\"Date\"])\n"
     ]
    }
   ],
   "source": [
    "df[\"Date\"] = pd.to_datetime(df[\"Date\"])"
   ]
  },
  {
   "cell_type": "code",
   "execution_count": 12,
   "id": "84581b51",
   "metadata": {},
   "outputs": [
    {
     "name": "stdout",
     "output_type": "stream",
     "text": [
      "<class 'pandas.core.frame.DataFrame'>\n",
      "Int64Index: 6854 entries, 0 to 6863\n",
      "Data columns (total 7 columns):\n",
      " #   Column     Non-Null Count  Dtype         \n",
      "---  ------     --------------  -----         \n",
      " 0   Date       6854 non-null   datetime64[ns]\n",
      " 1   Open       6854 non-null   float64       \n",
      " 2   High       6854 non-null   float64       \n",
      " 3   Low        6854 non-null   float64       \n",
      " 4   Close      6854 non-null   float64       \n",
      " 5   Adj Close  6854 non-null   float64       \n",
      " 6   Volume     6854 non-null   float64       \n",
      "dtypes: datetime64[ns](1), float64(6)\n",
      "memory usage: 428.4 KB\n"
     ]
    }
   ],
   "source": [
    "df.info()"
   ]
  },
  {
   "cell_type": "code",
   "execution_count": 13,
   "id": "eb38138c",
   "metadata": {},
   "outputs": [
    {
     "name": "stderr",
     "output_type": "stream",
     "text": [
      "C:\\Users\\samee\\AppData\\Local\\Temp\\ipykernel_17220\\1791414994.py:1: SettingWithCopyWarning: \n",
      "A value is trying to be set on a copy of a slice from a DataFrame.\n",
      "Try using .loc[row_indexer,col_indexer] = value instead\n",
      "\n",
      "See the caveats in the documentation: https://pandas.pydata.org/pandas-docs/stable/user_guide/indexing.html#returning-a-view-versus-a-copy\n",
      "  df[\"Year\"] = df[\"Date\"].dt.year\n"
     ]
    },
    {
     "data": {
      "text/html": [
       "<div>\n",
       "<style scoped>\n",
       "    .dataframe tbody tr th:only-of-type {\n",
       "        vertical-align: middle;\n",
       "    }\n",
       "\n",
       "    .dataframe tbody tr th {\n",
       "        vertical-align: top;\n",
       "    }\n",
       "\n",
       "    .dataframe thead th {\n",
       "        text-align: right;\n",
       "    }\n",
       "</style>\n",
       "<table border=\"1\" class=\"dataframe\">\n",
       "  <thead>\n",
       "    <tr style=\"text-align: right;\">\n",
       "      <th></th>\n",
       "      <th>Date</th>\n",
       "      <th>Open</th>\n",
       "      <th>High</th>\n",
       "      <th>Low</th>\n",
       "      <th>Close</th>\n",
       "      <th>Adj Close</th>\n",
       "      <th>Volume</th>\n",
       "      <th>Year</th>\n",
       "    </tr>\n",
       "  </thead>\n",
       "  <tbody>\n",
       "    <tr>\n",
       "      <th>0</th>\n",
       "      <td>1996-01-02</td>\n",
       "      <td>15.878770</td>\n",
       "      <td>15.956133</td>\n",
       "      <td>15.677626</td>\n",
       "      <td>15.793671</td>\n",
       "      <td>10.396508</td>\n",
       "      <td>77875009.0</td>\n",
       "      <td>1996</td>\n",
       "    </tr>\n",
       "    <tr>\n",
       "      <th>1</th>\n",
       "      <td>1996-01-03</td>\n",
       "      <td>16.052837</td>\n",
       "      <td>16.783918</td>\n",
       "      <td>15.878770</td>\n",
       "      <td>15.913584</td>\n",
       "      <td>10.475444</td>\n",
       "      <td>96602936.0</td>\n",
       "      <td>1996</td>\n",
       "    </tr>\n",
       "    <tr>\n",
       "      <th>2</th>\n",
       "      <td>1996-01-04</td>\n",
       "      <td>15.762726</td>\n",
       "      <td>15.813012</td>\n",
       "      <td>15.553845</td>\n",
       "      <td>15.766594</td>\n",
       "      <td>10.378684</td>\n",
       "      <td>100099436.0</td>\n",
       "      <td>1996</td>\n",
       "    </tr>\n",
       "    <tr>\n",
       "      <th>3</th>\n",
       "      <td>1996-01-05</td>\n",
       "      <td>15.704703</td>\n",
       "      <td>15.704703</td>\n",
       "      <td>15.522900</td>\n",
       "      <td>15.658285</td>\n",
       "      <td>10.307388</td>\n",
       "      <td>76935930.0</td>\n",
       "      <td>1996</td>\n",
       "    </tr>\n",
       "    <tr>\n",
       "      <th>4</th>\n",
       "      <td>1996-01-08</td>\n",
       "      <td>15.627340</td>\n",
       "      <td>15.638945</td>\n",
       "      <td>14.876918</td>\n",
       "      <td>15.031645</td>\n",
       "      <td>9.894890</td>\n",
       "      <td>86288584.0</td>\n",
       "      <td>1996</td>\n",
       "    </tr>\n",
       "    <tr>\n",
       "      <th>...</th>\n",
       "      <td>...</td>\n",
       "      <td>...</td>\n",
       "      <td>...</td>\n",
       "      <td>...</td>\n",
       "      <td>...</td>\n",
       "      <td>...</td>\n",
       "      <td>...</td>\n",
       "      <td>...</td>\n",
       "    </tr>\n",
       "    <tr>\n",
       "      <th>6859</th>\n",
       "      <td>2023-03-29</td>\n",
       "      <td>2239.000000</td>\n",
       "      <td>2244.800049</td>\n",
       "      <td>2211.100098</td>\n",
       "      <td>2234.699951</td>\n",
       "      <td>2234.699951</td>\n",
       "      <td>8678073.0</td>\n",
       "      <td>2023</td>\n",
       "    </tr>\n",
       "    <tr>\n",
       "      <th>6860</th>\n",
       "      <td>2023-03-31</td>\n",
       "      <td>2255.000000</td>\n",
       "      <td>2343.449951</td>\n",
       "      <td>2254.699951</td>\n",
       "      <td>2331.050049</td>\n",
       "      <td>2331.050049</td>\n",
       "      <td>13001005.0</td>\n",
       "      <td>2023</td>\n",
       "    </tr>\n",
       "    <tr>\n",
       "      <th>6861</th>\n",
       "      <td>2023-04-03</td>\n",
       "      <td>2345.000000</td>\n",
       "      <td>2349.000000</td>\n",
       "      <td>2315.000000</td>\n",
       "      <td>2331.449951</td>\n",
       "      <td>2331.449951</td>\n",
       "      <td>4750238.0</td>\n",
       "      <td>2023</td>\n",
       "    </tr>\n",
       "    <tr>\n",
       "      <th>6862</th>\n",
       "      <td>2023-04-05</td>\n",
       "      <td>2348.000000</td>\n",
       "      <td>2348.000000</td>\n",
       "      <td>2308.550049</td>\n",
       "      <td>2325.850098</td>\n",
       "      <td>2325.850098</td>\n",
       "      <td>7505339.0</td>\n",
       "      <td>2023</td>\n",
       "    </tr>\n",
       "    <tr>\n",
       "      <th>6863</th>\n",
       "      <td>2023-04-06</td>\n",
       "      <td>2318.149902</td>\n",
       "      <td>2354.000000</td>\n",
       "      <td>2318.149902</td>\n",
       "      <td>2341.449951</td>\n",
       "      <td>2341.449951</td>\n",
       "      <td>8507771.0</td>\n",
       "      <td>2023</td>\n",
       "    </tr>\n",
       "  </tbody>\n",
       "</table>\n",
       "<p>6854 rows × 8 columns</p>\n",
       "</div>"
      ],
      "text/plain": [
       "           Date         Open         High          Low        Close  \\\n",
       "0    1996-01-02    15.878770    15.956133    15.677626    15.793671   \n",
       "1    1996-01-03    16.052837    16.783918    15.878770    15.913584   \n",
       "2    1996-01-04    15.762726    15.813012    15.553845    15.766594   \n",
       "3    1996-01-05    15.704703    15.704703    15.522900    15.658285   \n",
       "4    1996-01-08    15.627340    15.638945    14.876918    15.031645   \n",
       "...         ...          ...          ...          ...          ...   \n",
       "6859 2023-03-29  2239.000000  2244.800049  2211.100098  2234.699951   \n",
       "6860 2023-03-31  2255.000000  2343.449951  2254.699951  2331.050049   \n",
       "6861 2023-04-03  2345.000000  2349.000000  2315.000000  2331.449951   \n",
       "6862 2023-04-05  2348.000000  2348.000000  2308.550049  2325.850098   \n",
       "6863 2023-04-06  2318.149902  2354.000000  2318.149902  2341.449951   \n",
       "\n",
       "        Adj Close       Volume  Year  \n",
       "0       10.396508   77875009.0  1996  \n",
       "1       10.475444   96602936.0  1996  \n",
       "2       10.378684  100099436.0  1996  \n",
       "3       10.307388   76935930.0  1996  \n",
       "4        9.894890   86288584.0  1996  \n",
       "...           ...          ...   ...  \n",
       "6859  2234.699951    8678073.0  2023  \n",
       "6860  2331.050049   13001005.0  2023  \n",
       "6861  2331.449951    4750238.0  2023  \n",
       "6862  2325.850098    7505339.0  2023  \n",
       "6863  2341.449951    8507771.0  2023  \n",
       "\n",
       "[6854 rows x 8 columns]"
      ]
     },
     "execution_count": 13,
     "metadata": {},
     "output_type": "execute_result"
    }
   ],
   "source": [
    "df[\"Year\"] = df[\"Date\"].dt.year\n",
    "df"
   ]
  },
  {
   "cell_type": "code",
   "execution_count": 14,
   "id": "cb3f576c",
   "metadata": {},
   "outputs": [
    {
     "name": "stderr",
     "output_type": "stream",
     "text": [
      "C:\\Users\\samee\\AppData\\Local\\Temp\\ipykernel_17220\\1957367309.py:1: SettingWithCopyWarning: \n",
      "A value is trying to be set on a copy of a slice from a DataFrame.\n",
      "Try using .loc[row_indexer,col_indexer] = value instead\n",
      "\n",
      "See the caveats in the documentation: https://pandas.pydata.org/pandas-docs/stable/user_guide/indexing.html#returning-a-view-versus-a-copy\n",
      "  df[\"Month\"] = df[\"Date\"].dt.month\n"
     ]
    }
   ],
   "source": [
    "df[\"Month\"] = df[\"Date\"].dt.month"
   ]
  },
  {
   "cell_type": "code",
   "execution_count": 15,
   "id": "7e943b0c",
   "metadata": {},
   "outputs": [
    {
     "name": "stderr",
     "output_type": "stream",
     "text": [
      "C:\\Users\\samee\\AppData\\Local\\Temp\\ipykernel_17220\\234562627.py:1: SettingWithCopyWarning: \n",
      "A value is trying to be set on a copy of a slice from a DataFrame.\n",
      "Try using .loc[row_indexer,col_indexer] = value instead\n",
      "\n",
      "See the caveats in the documentation: https://pandas.pydata.org/pandas-docs/stable/user_guide/indexing.html#returning-a-view-versus-a-copy\n",
      "  df[\"Day\"] = df[\"Date\"].dt.day\n"
     ]
    }
   ],
   "source": [
    "df[\"Day\"] = df[\"Date\"].dt.day"
   ]
  },
  {
   "cell_type": "code",
   "execution_count": 16,
   "id": "e868ce95",
   "metadata": {},
   "outputs": [
    {
     "data": {
      "text/html": [
       "<div>\n",
       "<style scoped>\n",
       "    .dataframe tbody tr th:only-of-type {\n",
       "        vertical-align: middle;\n",
       "    }\n",
       "\n",
       "    .dataframe tbody tr th {\n",
       "        vertical-align: top;\n",
       "    }\n",
       "\n",
       "    .dataframe thead th {\n",
       "        text-align: right;\n",
       "    }\n",
       "</style>\n",
       "<table border=\"1\" class=\"dataframe\">\n",
       "  <thead>\n",
       "    <tr style=\"text-align: right;\">\n",
       "      <th></th>\n",
       "      <th>Date</th>\n",
       "      <th>Open</th>\n",
       "      <th>High</th>\n",
       "      <th>Low</th>\n",
       "      <th>Close</th>\n",
       "      <th>Adj Close</th>\n",
       "      <th>Volume</th>\n",
       "      <th>Year</th>\n",
       "      <th>Month</th>\n",
       "      <th>Day</th>\n",
       "    </tr>\n",
       "  </thead>\n",
       "  <tbody>\n",
       "    <tr>\n",
       "      <th>0</th>\n",
       "      <td>1996-01-02</td>\n",
       "      <td>15.878770</td>\n",
       "      <td>15.956133</td>\n",
       "      <td>15.677626</td>\n",
       "      <td>15.793671</td>\n",
       "      <td>10.396508</td>\n",
       "      <td>77875009.0</td>\n",
       "      <td>1996</td>\n",
       "      <td>1</td>\n",
       "      <td>2</td>\n",
       "    </tr>\n",
       "    <tr>\n",
       "      <th>1</th>\n",
       "      <td>1996-01-03</td>\n",
       "      <td>16.052837</td>\n",
       "      <td>16.783918</td>\n",
       "      <td>15.878770</td>\n",
       "      <td>15.913584</td>\n",
       "      <td>10.475444</td>\n",
       "      <td>96602936.0</td>\n",
       "      <td>1996</td>\n",
       "      <td>1</td>\n",
       "      <td>3</td>\n",
       "    </tr>\n",
       "    <tr>\n",
       "      <th>2</th>\n",
       "      <td>1996-01-04</td>\n",
       "      <td>15.762726</td>\n",
       "      <td>15.813012</td>\n",
       "      <td>15.553845</td>\n",
       "      <td>15.766594</td>\n",
       "      <td>10.378684</td>\n",
       "      <td>100099436.0</td>\n",
       "      <td>1996</td>\n",
       "      <td>1</td>\n",
       "      <td>4</td>\n",
       "    </tr>\n",
       "    <tr>\n",
       "      <th>3</th>\n",
       "      <td>1996-01-05</td>\n",
       "      <td>15.704703</td>\n",
       "      <td>15.704703</td>\n",
       "      <td>15.522900</td>\n",
       "      <td>15.658285</td>\n",
       "      <td>10.307388</td>\n",
       "      <td>76935930.0</td>\n",
       "      <td>1996</td>\n",
       "      <td>1</td>\n",
       "      <td>5</td>\n",
       "    </tr>\n",
       "    <tr>\n",
       "      <th>4</th>\n",
       "      <td>1996-01-08</td>\n",
       "      <td>15.627340</td>\n",
       "      <td>15.638945</td>\n",
       "      <td>14.876918</td>\n",
       "      <td>15.031645</td>\n",
       "      <td>9.894890</td>\n",
       "      <td>86288584.0</td>\n",
       "      <td>1996</td>\n",
       "      <td>1</td>\n",
       "      <td>8</td>\n",
       "    </tr>\n",
       "    <tr>\n",
       "      <th>...</th>\n",
       "      <td>...</td>\n",
       "      <td>...</td>\n",
       "      <td>...</td>\n",
       "      <td>...</td>\n",
       "      <td>...</td>\n",
       "      <td>...</td>\n",
       "      <td>...</td>\n",
       "      <td>...</td>\n",
       "      <td>...</td>\n",
       "      <td>...</td>\n",
       "    </tr>\n",
       "    <tr>\n",
       "      <th>6859</th>\n",
       "      <td>2023-03-29</td>\n",
       "      <td>2239.000000</td>\n",
       "      <td>2244.800049</td>\n",
       "      <td>2211.100098</td>\n",
       "      <td>2234.699951</td>\n",
       "      <td>2234.699951</td>\n",
       "      <td>8678073.0</td>\n",
       "      <td>2023</td>\n",
       "      <td>3</td>\n",
       "      <td>29</td>\n",
       "    </tr>\n",
       "    <tr>\n",
       "      <th>6860</th>\n",
       "      <td>2023-03-31</td>\n",
       "      <td>2255.000000</td>\n",
       "      <td>2343.449951</td>\n",
       "      <td>2254.699951</td>\n",
       "      <td>2331.050049</td>\n",
       "      <td>2331.050049</td>\n",
       "      <td>13001005.0</td>\n",
       "      <td>2023</td>\n",
       "      <td>3</td>\n",
       "      <td>31</td>\n",
       "    </tr>\n",
       "    <tr>\n",
       "      <th>6861</th>\n",
       "      <td>2023-04-03</td>\n",
       "      <td>2345.000000</td>\n",
       "      <td>2349.000000</td>\n",
       "      <td>2315.000000</td>\n",
       "      <td>2331.449951</td>\n",
       "      <td>2331.449951</td>\n",
       "      <td>4750238.0</td>\n",
       "      <td>2023</td>\n",
       "      <td>4</td>\n",
       "      <td>3</td>\n",
       "    </tr>\n",
       "    <tr>\n",
       "      <th>6862</th>\n",
       "      <td>2023-04-05</td>\n",
       "      <td>2348.000000</td>\n",
       "      <td>2348.000000</td>\n",
       "      <td>2308.550049</td>\n",
       "      <td>2325.850098</td>\n",
       "      <td>2325.850098</td>\n",
       "      <td>7505339.0</td>\n",
       "      <td>2023</td>\n",
       "      <td>4</td>\n",
       "      <td>5</td>\n",
       "    </tr>\n",
       "    <tr>\n",
       "      <th>6863</th>\n",
       "      <td>2023-04-06</td>\n",
       "      <td>2318.149902</td>\n",
       "      <td>2354.000000</td>\n",
       "      <td>2318.149902</td>\n",
       "      <td>2341.449951</td>\n",
       "      <td>2341.449951</td>\n",
       "      <td>8507771.0</td>\n",
       "      <td>2023</td>\n",
       "      <td>4</td>\n",
       "      <td>6</td>\n",
       "    </tr>\n",
       "  </tbody>\n",
       "</table>\n",
       "<p>6854 rows × 10 columns</p>\n",
       "</div>"
      ],
      "text/plain": [
       "           Date         Open         High          Low        Close  \\\n",
       "0    1996-01-02    15.878770    15.956133    15.677626    15.793671   \n",
       "1    1996-01-03    16.052837    16.783918    15.878770    15.913584   \n",
       "2    1996-01-04    15.762726    15.813012    15.553845    15.766594   \n",
       "3    1996-01-05    15.704703    15.704703    15.522900    15.658285   \n",
       "4    1996-01-08    15.627340    15.638945    14.876918    15.031645   \n",
       "...         ...          ...          ...          ...          ...   \n",
       "6859 2023-03-29  2239.000000  2244.800049  2211.100098  2234.699951   \n",
       "6860 2023-03-31  2255.000000  2343.449951  2254.699951  2331.050049   \n",
       "6861 2023-04-03  2345.000000  2349.000000  2315.000000  2331.449951   \n",
       "6862 2023-04-05  2348.000000  2348.000000  2308.550049  2325.850098   \n",
       "6863 2023-04-06  2318.149902  2354.000000  2318.149902  2341.449951   \n",
       "\n",
       "        Adj Close       Volume  Year  Month  Day  \n",
       "0       10.396508   77875009.0  1996      1    2  \n",
       "1       10.475444   96602936.0  1996      1    3  \n",
       "2       10.378684  100099436.0  1996      1    4  \n",
       "3       10.307388   76935930.0  1996      1    5  \n",
       "4        9.894890   86288584.0  1996      1    8  \n",
       "...           ...          ...   ...    ...  ...  \n",
       "6859  2234.699951    8678073.0  2023      3   29  \n",
       "6860  2331.050049   13001005.0  2023      3   31  \n",
       "6861  2331.449951    4750238.0  2023      4    3  \n",
       "6862  2325.850098    7505339.0  2023      4    5  \n",
       "6863  2341.449951    8507771.0  2023      4    6  \n",
       "\n",
       "[6854 rows x 10 columns]"
      ]
     },
     "execution_count": 16,
     "metadata": {},
     "output_type": "execute_result"
    }
   ],
   "source": [
    "df"
   ]
  },
  {
   "cell_type": "code",
   "execution_count": 17,
   "id": "2f0933d5",
   "metadata": {},
   "outputs": [
    {
     "data": {
      "text/html": [
       "<div>\n",
       "<style scoped>\n",
       "    .dataframe tbody tr th:only-of-type {\n",
       "        vertical-align: middle;\n",
       "    }\n",
       "\n",
       "    .dataframe tbody tr th {\n",
       "        vertical-align: top;\n",
       "    }\n",
       "\n",
       "    .dataframe thead th {\n",
       "        text-align: right;\n",
       "    }\n",
       "</style>\n",
       "<table border=\"1\" class=\"dataframe\">\n",
       "  <thead>\n",
       "    <tr style=\"text-align: right;\">\n",
       "      <th></th>\n",
       "      <th>Open</th>\n",
       "      <th>High</th>\n",
       "      <th>Low</th>\n",
       "      <th>Close</th>\n",
       "      <th>Adj Close</th>\n",
       "      <th>Volume</th>\n",
       "      <th>Year</th>\n",
       "      <th>Month</th>\n",
       "      <th>Day</th>\n",
       "    </tr>\n",
       "  </thead>\n",
       "  <tbody>\n",
       "    <tr>\n",
       "      <th>0</th>\n",
       "      <td>15.878770</td>\n",
       "      <td>15.956133</td>\n",
       "      <td>15.677626</td>\n",
       "      <td>15.793671</td>\n",
       "      <td>10.396508</td>\n",
       "      <td>77875009.0</td>\n",
       "      <td>1996</td>\n",
       "      <td>1</td>\n",
       "      <td>2</td>\n",
       "    </tr>\n",
       "    <tr>\n",
       "      <th>1</th>\n",
       "      <td>16.052837</td>\n",
       "      <td>16.783918</td>\n",
       "      <td>15.878770</td>\n",
       "      <td>15.913584</td>\n",
       "      <td>10.475444</td>\n",
       "      <td>96602936.0</td>\n",
       "      <td>1996</td>\n",
       "      <td>1</td>\n",
       "      <td>3</td>\n",
       "    </tr>\n",
       "    <tr>\n",
       "      <th>2</th>\n",
       "      <td>15.762726</td>\n",
       "      <td>15.813012</td>\n",
       "      <td>15.553845</td>\n",
       "      <td>15.766594</td>\n",
       "      <td>10.378684</td>\n",
       "      <td>100099436.0</td>\n",
       "      <td>1996</td>\n",
       "      <td>1</td>\n",
       "      <td>4</td>\n",
       "    </tr>\n",
       "    <tr>\n",
       "      <th>3</th>\n",
       "      <td>15.704703</td>\n",
       "      <td>15.704703</td>\n",
       "      <td>15.522900</td>\n",
       "      <td>15.658285</td>\n",
       "      <td>10.307388</td>\n",
       "      <td>76935930.0</td>\n",
       "      <td>1996</td>\n",
       "      <td>1</td>\n",
       "      <td>5</td>\n",
       "    </tr>\n",
       "    <tr>\n",
       "      <th>4</th>\n",
       "      <td>15.627340</td>\n",
       "      <td>15.638945</td>\n",
       "      <td>14.876918</td>\n",
       "      <td>15.031645</td>\n",
       "      <td>9.894890</td>\n",
       "      <td>86288584.0</td>\n",
       "      <td>1996</td>\n",
       "      <td>1</td>\n",
       "      <td>8</td>\n",
       "    </tr>\n",
       "    <tr>\n",
       "      <th>...</th>\n",
       "      <td>...</td>\n",
       "      <td>...</td>\n",
       "      <td>...</td>\n",
       "      <td>...</td>\n",
       "      <td>...</td>\n",
       "      <td>...</td>\n",
       "      <td>...</td>\n",
       "      <td>...</td>\n",
       "      <td>...</td>\n",
       "    </tr>\n",
       "    <tr>\n",
       "      <th>6859</th>\n",
       "      <td>2239.000000</td>\n",
       "      <td>2244.800049</td>\n",
       "      <td>2211.100098</td>\n",
       "      <td>2234.699951</td>\n",
       "      <td>2234.699951</td>\n",
       "      <td>8678073.0</td>\n",
       "      <td>2023</td>\n",
       "      <td>3</td>\n",
       "      <td>29</td>\n",
       "    </tr>\n",
       "    <tr>\n",
       "      <th>6860</th>\n",
       "      <td>2255.000000</td>\n",
       "      <td>2343.449951</td>\n",
       "      <td>2254.699951</td>\n",
       "      <td>2331.050049</td>\n",
       "      <td>2331.050049</td>\n",
       "      <td>13001005.0</td>\n",
       "      <td>2023</td>\n",
       "      <td>3</td>\n",
       "      <td>31</td>\n",
       "    </tr>\n",
       "    <tr>\n",
       "      <th>6861</th>\n",
       "      <td>2345.000000</td>\n",
       "      <td>2349.000000</td>\n",
       "      <td>2315.000000</td>\n",
       "      <td>2331.449951</td>\n",
       "      <td>2331.449951</td>\n",
       "      <td>4750238.0</td>\n",
       "      <td>2023</td>\n",
       "      <td>4</td>\n",
       "      <td>3</td>\n",
       "    </tr>\n",
       "    <tr>\n",
       "      <th>6862</th>\n",
       "      <td>2348.000000</td>\n",
       "      <td>2348.000000</td>\n",
       "      <td>2308.550049</td>\n",
       "      <td>2325.850098</td>\n",
       "      <td>2325.850098</td>\n",
       "      <td>7505339.0</td>\n",
       "      <td>2023</td>\n",
       "      <td>4</td>\n",
       "      <td>5</td>\n",
       "    </tr>\n",
       "    <tr>\n",
       "      <th>6863</th>\n",
       "      <td>2318.149902</td>\n",
       "      <td>2354.000000</td>\n",
       "      <td>2318.149902</td>\n",
       "      <td>2341.449951</td>\n",
       "      <td>2341.449951</td>\n",
       "      <td>8507771.0</td>\n",
       "      <td>2023</td>\n",
       "      <td>4</td>\n",
       "      <td>6</td>\n",
       "    </tr>\n",
       "  </tbody>\n",
       "</table>\n",
       "<p>6854 rows × 9 columns</p>\n",
       "</div>"
      ],
      "text/plain": [
       "             Open         High          Low        Close    Adj Close  \\\n",
       "0       15.878770    15.956133    15.677626    15.793671    10.396508   \n",
       "1       16.052837    16.783918    15.878770    15.913584    10.475444   \n",
       "2       15.762726    15.813012    15.553845    15.766594    10.378684   \n",
       "3       15.704703    15.704703    15.522900    15.658285    10.307388   \n",
       "4       15.627340    15.638945    14.876918    15.031645     9.894890   \n",
       "...           ...          ...          ...          ...          ...   \n",
       "6859  2239.000000  2244.800049  2211.100098  2234.699951  2234.699951   \n",
       "6860  2255.000000  2343.449951  2254.699951  2331.050049  2331.050049   \n",
       "6861  2345.000000  2349.000000  2315.000000  2331.449951  2331.449951   \n",
       "6862  2348.000000  2348.000000  2308.550049  2325.850098  2325.850098   \n",
       "6863  2318.149902  2354.000000  2318.149902  2341.449951  2341.449951   \n",
       "\n",
       "           Volume  Year  Month  Day  \n",
       "0      77875009.0  1996      1    2  \n",
       "1      96602936.0  1996      1    3  \n",
       "2     100099436.0  1996      1    4  \n",
       "3      76935930.0  1996      1    5  \n",
       "4      86288584.0  1996      1    8  \n",
       "...           ...   ...    ...  ...  \n",
       "6859    8678073.0  2023      3   29  \n",
       "6860   13001005.0  2023      3   31  \n",
       "6861    4750238.0  2023      4    3  \n",
       "6862    7505339.0  2023      4    5  \n",
       "6863    8507771.0  2023      4    6  \n",
       "\n",
       "[6854 rows x 9 columns]"
      ]
     },
     "execution_count": 17,
     "metadata": {},
     "output_type": "execute_result"
    }
   ],
   "source": [
    "df = df.drop(\"Date\", axis=1)\n",
    "df"
   ]
  },
  {
   "cell_type": "code",
   "execution_count": 18,
   "id": "0ac453da",
   "metadata": {},
   "outputs": [
    {
     "name": "stdout",
     "output_type": "stream",
     "text": [
      "<class 'pandas.core.frame.DataFrame'>\n",
      "Int64Index: 6854 entries, 0 to 6863\n",
      "Data columns (total 9 columns):\n",
      " #   Column     Non-Null Count  Dtype  \n",
      "---  ------     --------------  -----  \n",
      " 0   Open       6854 non-null   float64\n",
      " 1   High       6854 non-null   float64\n",
      " 2   Low        6854 non-null   float64\n",
      " 3   Close      6854 non-null   float64\n",
      " 4   Adj Close  6854 non-null   float64\n",
      " 5   Volume     6854 non-null   float64\n",
      " 6   Year       6854 non-null   int64  \n",
      " 7   Month      6854 non-null   int64  \n",
      " 8   Day        6854 non-null   int64  \n",
      "dtypes: float64(6), int64(3)\n",
      "memory usage: 535.5 KB\n"
     ]
    }
   ],
   "source": [
    "df.info()"
   ]
  },
  {
   "cell_type": "markdown",
   "id": "5d3990f9",
   "metadata": {},
   "source": [
    "### Dealing with outliers"
   ]
  },
  {
   "cell_type": "code",
   "execution_count": 19,
   "id": "97aa6527",
   "metadata": {},
   "outputs": [
    {
     "data": {
      "image/png": "[encoded data removed]",
      "text/plain": [
       "<Figure size 640x480 with 1 Axes>"
      ]
     },
     "metadata": {},
     "output_type": "display_data"
    }
   ],
   "source": [
    "plt.boxplot(df[\"Close\"]);"
   ]
  },
  {
   "cell_type": "code",
   "execution_count": 20,
   "id": "bda560c3",
   "metadata": {},
   "outputs": [],
   "source": [
    "q1 = np.quantile(df[\"Close\"], 0.25)\n",
    "\n",
    "q3 = np.quantile(df[\"Close\"], 0.75)\n",
    "med = np.median(df[\"Close\"])\n",
    "\n",
    "iqr = q3-q1\n",
    "\n",
    "\n",
    "upper_bound = q3 + (1 * iqr)\n",
    "lower_bound = q1 - (1 * iqr)\n",
    "\n",
    "\n",
    "outliers = (df['Close'] < lower_bound) | (df['Close'] > upper_bound)\n",
    "df = df[~outliers]"
   ]
  },
  {
   "cell_type": "code",
   "execution_count": 21,
   "id": "77c6eeb4",
   "metadata": {},
   "outputs": [
    {
     "data": {
      "image/png": "[encoded data removed]",
      "text/plain": [
       "<Figure size 640x480 with 1 Axes>"
      ]
     },
     "metadata": {},
     "output_type": "display_data"
    }
   ],
   "source": [
    "plt.boxplot(df[\"Close\"]);"
   ]
  },
  {
   "cell_type": "code",
   "execution_count": 22,
   "id": "aa955bb3",
   "metadata": {},
   "outputs": [
    {
     "data": {
      "text/plain": [
       "289.33829613216477"
      ]
     },
     "execution_count": 22,
     "metadata": {},
     "output_type": "execute_result"
    }
   ],
   "source": [
    "df['Close'].mean()"
   ]
  },
  {
   "cell_type": "code",
   "execution_count": 23,
   "id": "146ed709",
   "metadata": {},
   "outputs": [
    {
     "data": {
      "text/plain": [
       "307.584412"
      ]
     },
     "execution_count": 23,
     "metadata": {},
     "output_type": "execute_result"
    }
   ],
   "source": [
    "df[\"Close\"].median()"
   ]
  },
  {
   "cell_type": "code",
   "execution_count": 24,
   "id": "7f7775ee",
   "metadata": {},
   "outputs": [
    {
     "data": {
      "text/plain": [
       "11.890704"
      ]
     },
     "execution_count": 24,
     "metadata": {},
     "output_type": "execute_result"
    }
   ],
   "source": [
    "df['Close'].min()"
   ]
  },
  {
   "cell_type": "code",
   "execution_count": 25,
   "id": "ee694bc2",
   "metadata": {},
   "outputs": [
    {
     "data": {
      "text/html": [
       "<div>\n",
       "<style scoped>\n",
       "    .dataframe tbody tr th:only-of-type {\n",
       "        vertical-align: middle;\n",
       "    }\n",
       "\n",
       "    .dataframe tbody tr th {\n",
       "        vertical-align: top;\n",
       "    }\n",
       "\n",
       "    .dataframe thead th {\n",
       "        text-align: right;\n",
       "    }\n",
       "</style>\n",
       "<table border=\"1\" class=\"dataframe\">\n",
       "  <thead>\n",
       "    <tr style=\"text-align: right;\">\n",
       "      <th></th>\n",
       "      <th>Open</th>\n",
       "      <th>High</th>\n",
       "      <th>Low</th>\n",
       "      <th>Close</th>\n",
       "      <th>Adj Close</th>\n",
       "      <th>Volume</th>\n",
       "      <th>Year</th>\n",
       "      <th>Month</th>\n",
       "      <th>Day</th>\n",
       "    </tr>\n",
       "  </thead>\n",
       "  <tbody>\n",
       "    <tr>\n",
       "      <th>count</th>\n",
       "      <td>5705.000000</td>\n",
       "      <td>5705.000000</td>\n",
       "      <td>5705.000000</td>\n",
       "      <td>5705.000000</td>\n",
       "      <td>5705.000000</td>\n",
       "      <td>5.705000e+03</td>\n",
       "      <td>5705.000000</td>\n",
       "      <td>5705.000000</td>\n",
       "      <td>5705.000000</td>\n",
       "    </tr>\n",
       "    <tr>\n",
       "      <th>mean</th>\n",
       "      <td>289.705598</td>\n",
       "      <td>293.515470</td>\n",
       "      <td>285.542145</td>\n",
       "      <td>289.338296</td>\n",
       "      <td>267.953934</td>\n",
       "      <td>3.267227e+07</td>\n",
       "      <td>2006.661174</td>\n",
       "      <td>6.452410</td>\n",
       "      <td>15.771253</td>\n",
       "    </tr>\n",
       "    <tr>\n",
       "      <th>std</th>\n",
       "      <td>253.383779</td>\n",
       "      <td>256.424441</td>\n",
       "      <td>249.916898</td>\n",
       "      <td>252.935393</td>\n",
       "      <td>243.185030</td>\n",
       "      <td>5.205124e+07</td>\n",
       "      <td>6.554899</td>\n",
       "      <td>3.439044</td>\n",
       "      <td>8.784534</td>\n",
       "    </tr>\n",
       "    <tr>\n",
       "      <th>min</th>\n",
       "      <td>11.836550</td>\n",
       "      <td>11.890704</td>\n",
       "      <td>11.763055</td>\n",
       "      <td>11.890704</td>\n",
       "      <td>7.827301</td>\n",
       "      <td>0.000000e+00</td>\n",
       "      <td>1996.000000</td>\n",
       "      <td>1.000000</td>\n",
       "      <td>1.000000</td>\n",
       "    </tr>\n",
       "    <tr>\n",
       "      <th>25%</th>\n",
       "      <td>46.247643</td>\n",
       "      <td>46.943913</td>\n",
       "      <td>45.489487</td>\n",
       "      <td>46.170280</td>\n",
       "      <td>37.118332</td>\n",
       "      <td>7.120063e+06</td>\n",
       "      <td>2001.000000</td>\n",
       "      <td>3.000000</td>\n",
       "      <td>8.000000</td>\n",
       "    </tr>\n",
       "    <tr>\n",
       "      <th>50%</th>\n",
       "      <td>307.089111</td>\n",
       "      <td>313.924316</td>\n",
       "      <td>300.897797</td>\n",
       "      <td>307.584412</td>\n",
       "      <td>274.996460</td>\n",
       "      <td>1.453887e+07</td>\n",
       "      <td>2007.000000</td>\n",
       "      <td>6.000000</td>\n",
       "      <td>16.000000</td>\n",
       "    </tr>\n",
       "    <tr>\n",
       "      <th>75%</th>\n",
       "      <td>484.804535</td>\n",
       "      <td>489.831879</td>\n",
       "      <td>479.083771</td>\n",
       "      <td>484.259705</td>\n",
       "      <td>451.248199</td>\n",
       "      <td>3.623203e+07</td>\n",
       "      <td>2012.000000</td>\n",
       "      <td>9.000000</td>\n",
       "      <td>23.000000</td>\n",
       "    </tr>\n",
       "    <tr>\n",
       "      <th>max</th>\n",
       "      <td>1099.577148</td>\n",
       "      <td>1106.412354</td>\n",
       "      <td>1047.421509</td>\n",
       "      <td>1056.188354</td>\n",
       "      <td>1045.714966</td>\n",
       "      <td>6.686620e+08</td>\n",
       "      <td>2020.000000</td>\n",
       "      <td>12.000000</td>\n",
       "      <td>31.000000</td>\n",
       "    </tr>\n",
       "  </tbody>\n",
       "</table>\n",
       "</div>"
      ],
      "text/plain": [
       "              Open         High          Low        Close    Adj Close  \\\n",
       "count  5705.000000  5705.000000  5705.000000  5705.000000  5705.000000   \n",
       "mean    289.705598   293.515470   285.542145   289.338296   267.953934   \n",
       "std     253.383779   256.424441   249.916898   252.935393   243.185030   \n",
       "min      11.836550    11.890704    11.763055    11.890704     7.827301   \n",
       "25%      46.247643    46.943913    45.489487    46.170280    37.118332   \n",
       "50%     307.089111   313.924316   300.897797   307.584412   274.996460   \n",
       "75%     484.804535   489.831879   479.083771   484.259705   451.248199   \n",
       "max    1099.577148  1106.412354  1047.421509  1056.188354  1045.714966   \n",
       "\n",
       "             Volume         Year        Month          Day  \n",
       "count  5.705000e+03  5705.000000  5705.000000  5705.000000  \n",
       "mean   3.267227e+07  2006.661174     6.452410    15.771253  \n",
       "std    5.205124e+07     6.554899     3.439044     8.784534  \n",
       "min    0.000000e+00  1996.000000     1.000000     1.000000  \n",
       "25%    7.120063e+06  2001.000000     3.000000     8.000000  \n",
       "50%    1.453887e+07  2007.000000     6.000000    16.000000  \n",
       "75%    3.623203e+07  2012.000000     9.000000    23.000000  \n",
       "max    6.686620e+08  2020.000000    12.000000    31.000000  "
      ]
     },
     "execution_count": 25,
     "metadata": {},
     "output_type": "execute_result"
    }
   ],
   "source": [
    "df.describe()"
   ]
  },
  {
   "cell_type": "code",
   "execution_count": 26,
   "id": "f2d95aca",
   "metadata": {},
   "outputs": [
    {
     "data": {
      "image/png": "[encoded data removed]",
      "text/plain": [
       "<Figure size 640x480 with 1 Axes>"
      ]
     },
     "metadata": {},
     "output_type": "display_data"
    }
   ],
   "source": [
    "plt.boxplot(df[\"Open\"]);"
   ]
  },
  {
   "cell_type": "code",
   "execution_count": 29,
   "id": "02524ad4",
   "metadata": {},
   "outputs": [
    {
     "data": {
      "image/png": "[encoded data removed]",
      "text/plain": [
       "<Figure size 640x480 with 1 Axes>"
      ]
     },
     "metadata": {},
     "output_type": "display_data"
    }
   ],
   "source": [
    "plt.boxplot(df['High']);"
   ]
  },
  {
   "cell_type": "code",
   "execution_count": 32,
   "id": "07a03a00",
   "metadata": {},
   "outputs": [
    {
     "data": {
      "image/png": "[encoded data removed]",
      "text/plain": [
       "<Figure size 640x480 with 1 Axes>"
      ]
     },
     "metadata": {},
     "output_type": "display_data"
    }
   ],
   "source": [
    "plt.boxplot(df['Low']);"
   ]
  },
  {
   "cell_type": "code",
   "execution_count": 35,
   "id": "7f83e123",
   "metadata": {},
   "outputs": [
    {
     "name": "stdout",
     "output_type": "stream",
     "text": [
      "Median: \n"
     ]
    },
    {
     "data": {
      "text/plain": [
       "Open         3.070891e+02\n",
       "High         3.139243e+02\n",
       "Low          3.008978e+02\n",
       "Close        3.075844e+02\n",
       "Adj Close    2.749965e+02\n",
       "Volume       1.453887e+07\n",
       "Year         2.007000e+03\n",
       "Month        6.000000e+00\n",
       "Day          1.600000e+01\n",
       "dtype: float64"
      ]
     },
     "execution_count": 35,
     "metadata": {},
     "output_type": "execute_result"
    }
   ],
   "source": [
    "print(\"Median: \")\n",
    "df.median()"
   ]
  },
  {
   "cell_type": "code",
   "execution_count": 36,
   "id": "37461e7a",
   "metadata": {},
   "outputs": [
    {
     "name": "stdout",
     "output_type": "stream",
     "text": [
      "Mean: \n"
     ]
    },
    {
     "data": {
      "text/plain": [
       "Open         2.897056e+02\n",
       "High         2.935155e+02\n",
       "Low          2.855421e+02\n",
       "Close        2.893383e+02\n",
       "Adj Close    2.679539e+02\n",
       "Volume       3.267227e+07\n",
       "Year         2.006661e+03\n",
       "Month        6.452410e+00\n",
       "Day          1.577125e+01\n",
       "dtype: float64"
      ]
     },
     "execution_count": 36,
     "metadata": {},
     "output_type": "execute_result"
    }
   ],
   "source": [
    "print(\"Mean: \")\n",
    "df.mean()"
   ]
  },
  {
   "cell_type": "markdown",
   "id": "ba0af059",
   "metadata": {},
   "source": [
    "# Training"
   ]
  },
  {
   "cell_type": "code",
   "execution_count": 37,
   "id": "8bc43787",
   "metadata": {},
   "outputs": [],
   "source": [
    "X = df.drop(\"Close\", axis=1)\n",
    "y = df[\"Close\"]"
   ]
  },
  {
   "cell_type": "code",
   "execution_count": 38,
   "id": "921b2db8",
   "metadata": {},
   "outputs": [
    {
     "data": {
      "text/plain": [
       "((4564, 8), (1141, 8), (4564,), (1141,))"
      ]
     },
     "execution_count": 38,
     "metadata": {},
     "output_type": "execute_result"
    }
   ],
   "source": [
    "from sklearn.model_selection import train_test_split\n",
    "X_train, X_test, y_train, y_test = train_test_split(X, y, test_size=0.2, random_state=10)\n",
    "X_train.shape, X_test.shape, y_train.shape, y_test.shape"
   ]
  },
  {
   "cell_type": "code",
   "execution_count": 39,
   "id": "4fc444ff",
   "metadata": {},
   "outputs": [],
   "source": [
    "# Defining a method from training of different algorithms\n",
    "from sklearn.metrics import r2_score, mean_squared_error\n",
    "r2_score_dict = {}\n",
    "mse_score_dict = {}\n",
    "def simple_train_model(model_name):\n",
    "    model = model_name\n",
    "    model.fit(X_train, y_train)\n",
    "    model_preds = model.predict(X_test)\n",
    "    score = r2_score(model_preds, y_test)\n",
    "    mse = mean_squared_error(y_test, model_preds)\n",
    "    return mse, score"
   ]
  },
  {
   "cell_type": "code",
   "execution_count": 40,
   "id": "5349f48e",
   "metadata": {},
   "outputs": [],
   "source": [
    "from sklearn.linear_model import LinearRegression\n",
    "from sklearn.ensemble import RandomForestRegressor\n",
    "from sklearn.linear_model import Ridge\n",
    "from sklearn.linear_model import Lasso\n",
    "from sklearn.tree import DecisionTreeRegressor"
   ]
  },
  {
   "cell_type": "code",
   "execution_count": 41,
   "id": "9f3915e5",
   "metadata": {},
   "outputs": [
    {
     "name": "stderr",
     "output_type": "stream",
     "text": [
      "D:\\Miniconda\\lib\\site-packages\\sklearn\\linear_model\\_coordinate_descent.py:631: ConvergenceWarning: Objective did not converge. You might want to increase the number of iterations, check the scale of the features or consider increasing regularisation. Duality gap: 6.478e+04, tolerance: 2.945e+04\n",
      "  model = cd_fast.enet_coordinate_descent(\n"
     ]
    }
   ],
   "source": [
    "r2_score_dict['Linear Regression'] = simple_train_model(LinearRegression())\n",
    "r2_score_dict['Random Forest Regressor'] = simple_train_model(RandomForestRegressor())\n",
    "r2_score_dict['Ridge'] = simple_train_model(Ridge())\n",
    "r2_score_dict['Lasso'] = simple_train_model(Lasso())\n",
    "r2_score_dict['Decision Tree Regressor'] = simple_train_model(DecisionTreeRegressor())"
   ]
  },
  {
   "cell_type": "code",
   "execution_count": 42,
   "id": "b628a501",
   "metadata": {},
   "outputs": [
    {
     "name": "stdout",
     "output_type": "stream",
     "text": [
      "                               MSE  R2 Score\n",
      "Linear Regression        10.592297  0.999828\n",
      "Random Forest Regressor   6.792094  0.999890\n",
      "Ridge                    10.592338  0.999828\n",
      "Lasso                    27.929854  0.999547\n",
      "Decision Tree Regressor  10.836292  0.999824\n"
     ]
    }
   ],
   "source": [
    "r2_df = pd.DataFrame.from_dict(r2_score_dict, orient='index', columns=['MSE', 'R2 Score'])\n",
    "\n",
    "print(r2_df)"
   ]
  },
  {
   "cell_type": "code",
   "execution_count": 43,
   "id": "c3b35635",
   "metadata": {},
   "outputs": [
    {
     "data": {
      "text/plain": [
       "<Axes: xlabel='Close', ylabel='Count'>"
      ]
     },
     "execution_count": 43,
     "metadata": {},
     "output_type": "execute_result"
    },
    {
     "data": {
      "image/png": "[encoded data removed]",
      "text/plain": [
       "<Figure size 640x480 with 1 Axes>"
      ]
     },
     "metadata": {},
     "output_type": "display_data"
    }
   ],
   "source": [
    "import seaborn as sns\n",
    "sns.histplot(data=df, x='Close')"
   ]
  },
  {
   "cell_type": "markdown",
   "id": "6308ccc3",
   "metadata": {},
   "source": [
    "Since the `Close` column shown above is right skewed (positive skewed), we will have to implement logarithmic transformation on it to normalize the data."
   ]
  },
  {
   "cell_type": "markdown",
   "id": "cc092719",
   "metadata": {},
   "source": [
    "### Converting close column into log10"
   ]
  },
  {
   "cell_type": "code",
   "execution_count": 44,
   "id": "1ce8c73c",
   "metadata": {},
   "outputs": [
    {
     "data": {
      "text/plain": [
       "<Axes: xlabel='Close_log', ylabel='Count'>"
      ]
     },
     "execution_count": 44,
     "metadata": {},
     "output_type": "execute_result"
    },
    {
     "data": {
      "image/png": "[encoded data removed]",
      "text/plain": [
       "<Figure size 640x480 with 1 Axes>"
      ]
     },
     "metadata": {},
     "output_type": "display_data"
    }
   ],
   "source": [
    "df['Close_log'] = np.log10(df['Close'])\n",
    "sns.histplot(data=df, x='Close_log')"
   ]
  },
  {
   "cell_type": "code",
   "execution_count": 45,
   "id": "e45705f8",
   "metadata": {},
   "outputs": [
    {
     "data": {
      "text/html": [
       "<div>\n",
       "<style scoped>\n",
       "    .dataframe tbody tr th:only-of-type {\n",
       "        vertical-align: middle;\n",
       "    }\n",
       "\n",
       "    .dataframe tbody tr th {\n",
       "        vertical-align: top;\n",
       "    }\n",
       "\n",
       "    .dataframe thead th {\n",
       "        text-align: right;\n",
       "    }\n",
       "</style>\n",
       "<table border=\"1\" class=\"dataframe\">\n",
       "  <thead>\n",
       "    <tr style=\"text-align: right;\">\n",
       "      <th></th>\n",
       "      <th>Open</th>\n",
       "      <th>High</th>\n",
       "      <th>Low</th>\n",
       "      <th>Close</th>\n",
       "      <th>Adj Close</th>\n",
       "      <th>Volume</th>\n",
       "      <th>Year</th>\n",
       "      <th>Month</th>\n",
       "      <th>Day</th>\n",
       "      <th>Close_log</th>\n",
       "    </tr>\n",
       "  </thead>\n",
       "  <tbody>\n",
       "    <tr>\n",
       "      <th>0</th>\n",
       "      <td>15.878770</td>\n",
       "      <td>15.956133</td>\n",
       "      <td>15.677626</td>\n",
       "      <td>15.793671</td>\n",
       "      <td>10.396508</td>\n",
       "      <td>77875009.0</td>\n",
       "      <td>1996</td>\n",
       "      <td>1</td>\n",
       "      <td>2</td>\n",
       "      <td>1.198483</td>\n",
       "    </tr>\n",
       "    <tr>\n",
       "      <th>1</th>\n",
       "      <td>16.052837</td>\n",
       "      <td>16.783918</td>\n",
       "      <td>15.878770</td>\n",
       "      <td>15.913584</td>\n",
       "      <td>10.475444</td>\n",
       "      <td>96602936.0</td>\n",
       "      <td>1996</td>\n",
       "      <td>1</td>\n",
       "      <td>3</td>\n",
       "      <td>1.201768</td>\n",
       "    </tr>\n",
       "    <tr>\n",
       "      <th>2</th>\n",
       "      <td>15.762726</td>\n",
       "      <td>15.813012</td>\n",
       "      <td>15.553845</td>\n",
       "      <td>15.766594</td>\n",
       "      <td>10.378684</td>\n",
       "      <td>100099436.0</td>\n",
       "      <td>1996</td>\n",
       "      <td>1</td>\n",
       "      <td>4</td>\n",
       "      <td>1.197738</td>\n",
       "    </tr>\n",
       "    <tr>\n",
       "      <th>3</th>\n",
       "      <td>15.704703</td>\n",
       "      <td>15.704703</td>\n",
       "      <td>15.522900</td>\n",
       "      <td>15.658285</td>\n",
       "      <td>10.307388</td>\n",
       "      <td>76935930.0</td>\n",
       "      <td>1996</td>\n",
       "      <td>1</td>\n",
       "      <td>5</td>\n",
       "      <td>1.194744</td>\n",
       "    </tr>\n",
       "    <tr>\n",
       "      <th>4</th>\n",
       "      <td>15.627340</td>\n",
       "      <td>15.638945</td>\n",
       "      <td>14.876918</td>\n",
       "      <td>15.031645</td>\n",
       "      <td>9.894890</td>\n",
       "      <td>86288584.0</td>\n",
       "      <td>1996</td>\n",
       "      <td>1</td>\n",
       "      <td>8</td>\n",
       "      <td>1.177007</td>\n",
       "    </tr>\n",
       "    <tr>\n",
       "      <th>...</th>\n",
       "      <td>...</td>\n",
       "      <td>...</td>\n",
       "      <td>...</td>\n",
       "      <td>...</td>\n",
       "      <td>...</td>\n",
       "      <td>...</td>\n",
       "      <td>...</td>\n",
       "      <td>...</td>\n",
       "      <td>...</td>\n",
       "      <td>...</td>\n",
       "    </tr>\n",
       "    <tr>\n",
       "      <th>6108</th>\n",
       "      <td>907.596863</td>\n",
       "      <td>941.079529</td>\n",
       "      <td>867.427673</td>\n",
       "      <td>875.748779</td>\n",
       "      <td>867.064636</td>\n",
       "      <td>18769636.0</td>\n",
       "      <td>2020</td>\n",
       "      <td>3</td>\n",
       "      <td>23</td>\n",
       "      <td>2.942380</td>\n",
       "    </tr>\n",
       "    <tr>\n",
       "      <th>6109</th>\n",
       "      <td>921.267334</td>\n",
       "      <td>960.891724</td>\n",
       "      <td>887.388428</td>\n",
       "      <td>934.541504</td>\n",
       "      <td>925.274353</td>\n",
       "      <td>21106643.0</td>\n",
       "      <td>2020</td>\n",
       "      <td>3</td>\n",
       "      <td>24</td>\n",
       "      <td>2.970599</td>\n",
       "    </tr>\n",
       "    <tr>\n",
       "      <th>6111</th>\n",
       "      <td>1085.510498</td>\n",
       "      <td>1106.412354</td>\n",
       "      <td>1032.562378</td>\n",
       "      <td>1056.188354</td>\n",
       "      <td>1045.714966</td>\n",
       "      <td>21111073.0</td>\n",
       "      <td>2020</td>\n",
       "      <td>3</td>\n",
       "      <td>26</td>\n",
       "      <td>3.023741</td>\n",
       "    </tr>\n",
       "    <tr>\n",
       "      <th>6112</th>\n",
       "      <td>1084.718018</td>\n",
       "      <td>1096.902466</td>\n",
       "      <td>1036.376221</td>\n",
       "      <td>1055.593994</td>\n",
       "      <td>1045.126465</td>\n",
       "      <td>19225132.0</td>\n",
       "      <td>2020</td>\n",
       "      <td>3</td>\n",
       "      <td>27</td>\n",
       "      <td>3.023497</td>\n",
       "    </tr>\n",
       "    <tr>\n",
       "      <th>6113</th>\n",
       "      <td>1030.828735</td>\n",
       "      <td>1064.707642</td>\n",
       "      <td>1010.422180</td>\n",
       "      <td>1020.774109</td>\n",
       "      <td>1010.651855</td>\n",
       "      <td>13951078.0</td>\n",
       "      <td>2020</td>\n",
       "      <td>3</td>\n",
       "      <td>30</td>\n",
       "      <td>3.008930</td>\n",
       "    </tr>\n",
       "  </tbody>\n",
       "</table>\n",
       "<p>5705 rows × 10 columns</p>\n",
       "</div>"
      ],
      "text/plain": [
       "             Open         High          Low        Close    Adj Close  \\\n",
       "0       15.878770    15.956133    15.677626    15.793671    10.396508   \n",
       "1       16.052837    16.783918    15.878770    15.913584    10.475444   \n",
       "2       15.762726    15.813012    15.553845    15.766594    10.378684   \n",
       "3       15.704703    15.704703    15.522900    15.658285    10.307388   \n",
       "4       15.627340    15.638945    14.876918    15.031645     9.894890   \n",
       "...           ...          ...          ...          ...          ...   \n",
       "6108   907.596863   941.079529   867.427673   875.748779   867.064636   \n",
       "6109   921.267334   960.891724   887.388428   934.541504   925.274353   \n",
       "6111  1085.510498  1106.412354  1032.562378  1056.188354  1045.714966   \n",
       "6112  1084.718018  1096.902466  1036.376221  1055.593994  1045.126465   \n",
       "6113  1030.828735  1064.707642  1010.422180  1020.774109  1010.651855   \n",
       "\n",
       "           Volume  Year  Month  Day  Close_log  \n",
       "0      77875009.0  1996      1    2   1.198483  \n",
       "1      96602936.0  1996      1    3   1.201768  \n",
       "2     100099436.0  1996      1    4   1.197738  \n",
       "3      76935930.0  1996      1    5   1.194744  \n",
       "4      86288584.0  1996      1    8   1.177007  \n",
       "...           ...   ...    ...  ...        ...  \n",
       "6108   18769636.0  2020      3   23   2.942380  \n",
       "6109   21106643.0  2020      3   24   2.970599  \n",
       "6111   21111073.0  2020      3   26   3.023741  \n",
       "6112   19225132.0  2020      3   27   3.023497  \n",
       "6113   13951078.0  2020      3   30   3.008930  \n",
       "\n",
       "[5705 rows x 10 columns]"
      ]
     },
     "execution_count": 45,
     "metadata": {},
     "output_type": "execute_result"
    }
   ],
   "source": [
    "df"
   ]
  },
  {
   "cell_type": "code",
   "execution_count": 46,
   "id": "6858637f",
   "metadata": {},
   "outputs": [
    {
     "data": {
      "text/plain": [
       "{'whiskers': [<matplotlib.lines.Line2D at 0x2148195a880>,\n",
       "  <matplotlib.lines.Line2D at 0x2149adc51c0>],\n",
       " 'caps': [<matplotlib.lines.Line2D at 0x2149adc5cd0>,\n",
       "  <matplotlib.lines.Line2D at 0x2149adc5730>],\n",
       " 'boxes': [<matplotlib.lines.Line2D at 0x214819a1fa0>],\n",
       " 'medians': [<matplotlib.lines.Line2D at 0x214819c39a0>],\n",
       " 'fliers': [<matplotlib.lines.Line2D at 0x214819c34f0>],\n",
       " 'means': []}"
      ]
     },
     "execution_count": 46,
     "metadata": {},
     "output_type": "execute_result"
    },
    {
     "data": {
      "image/png": "[encoded data removed]",
      "text/plain": [
       "<Figure size 640x480 with 1 Axes>"
      ]
     },
     "metadata": {},
     "output_type": "display_data"
    }
   ],
   "source": [
    "plt.boxplot(df['Close_log'])"
   ]
  },
  {
   "cell_type": "code",
   "execution_count": 47,
   "id": "a3dcdb35",
   "metadata": {},
   "outputs": [
    {
     "data": {
      "text/html": [
       "<div>\n",
       "<style scoped>\n",
       "    .dataframe tbody tr th:only-of-type {\n",
       "        vertical-align: middle;\n",
       "    }\n",
       "\n",
       "    .dataframe tbody tr th {\n",
       "        vertical-align: top;\n",
       "    }\n",
       "\n",
       "    .dataframe thead th {\n",
       "        text-align: right;\n",
       "    }\n",
       "</style>\n",
       "<table border=\"1\" class=\"dataframe\">\n",
       "  <thead>\n",
       "    <tr style=\"text-align: right;\">\n",
       "      <th></th>\n",
       "      <th>Open</th>\n",
       "      <th>High</th>\n",
       "      <th>Low</th>\n",
       "      <th>Adj Close</th>\n",
       "      <th>Volume</th>\n",
       "      <th>Year</th>\n",
       "      <th>Month</th>\n",
       "      <th>Day</th>\n",
       "      <th>Close_log</th>\n",
       "    </tr>\n",
       "  </thead>\n",
       "  <tbody>\n",
       "    <tr>\n",
       "      <th>0</th>\n",
       "      <td>15.878770</td>\n",
       "      <td>15.956133</td>\n",
       "      <td>15.677626</td>\n",
       "      <td>10.396508</td>\n",
       "      <td>77875009.0</td>\n",
       "      <td>1996</td>\n",
       "      <td>1</td>\n",
       "      <td>2</td>\n",
       "      <td>1.198483</td>\n",
       "    </tr>\n",
       "    <tr>\n",
       "      <th>1</th>\n",
       "      <td>16.052837</td>\n",
       "      <td>16.783918</td>\n",
       "      <td>15.878770</td>\n",
       "      <td>10.475444</td>\n",
       "      <td>96602936.0</td>\n",
       "      <td>1996</td>\n",
       "      <td>1</td>\n",
       "      <td>3</td>\n",
       "      <td>1.201768</td>\n",
       "    </tr>\n",
       "    <tr>\n",
       "      <th>2</th>\n",
       "      <td>15.762726</td>\n",
       "      <td>15.813012</td>\n",
       "      <td>15.553845</td>\n",
       "      <td>10.378684</td>\n",
       "      <td>100099436.0</td>\n",
       "      <td>1996</td>\n",
       "      <td>1</td>\n",
       "      <td>4</td>\n",
       "      <td>1.197738</td>\n",
       "    </tr>\n",
       "    <tr>\n",
       "      <th>3</th>\n",
       "      <td>15.704703</td>\n",
       "      <td>15.704703</td>\n",
       "      <td>15.522900</td>\n",
       "      <td>10.307388</td>\n",
       "      <td>76935930.0</td>\n",
       "      <td>1996</td>\n",
       "      <td>1</td>\n",
       "      <td>5</td>\n",
       "      <td>1.194744</td>\n",
       "    </tr>\n",
       "    <tr>\n",
       "      <th>4</th>\n",
       "      <td>15.627340</td>\n",
       "      <td>15.638945</td>\n",
       "      <td>14.876918</td>\n",
       "      <td>9.894890</td>\n",
       "      <td>86288584.0</td>\n",
       "      <td>1996</td>\n",
       "      <td>1</td>\n",
       "      <td>8</td>\n",
       "      <td>1.177007</td>\n",
       "    </tr>\n",
       "    <tr>\n",
       "      <th>...</th>\n",
       "      <td>...</td>\n",
       "      <td>...</td>\n",
       "      <td>...</td>\n",
       "      <td>...</td>\n",
       "      <td>...</td>\n",
       "      <td>...</td>\n",
       "      <td>...</td>\n",
       "      <td>...</td>\n",
       "      <td>...</td>\n",
       "    </tr>\n",
       "    <tr>\n",
       "      <th>6108</th>\n",
       "      <td>907.596863</td>\n",
       "      <td>941.079529</td>\n",
       "      <td>867.427673</td>\n",
       "      <td>867.064636</td>\n",
       "      <td>18769636.0</td>\n",
       "      <td>2020</td>\n",
       "      <td>3</td>\n",
       "      <td>23</td>\n",
       "      <td>2.942380</td>\n",
       "    </tr>\n",
       "    <tr>\n",
       "      <th>6109</th>\n",
       "      <td>921.267334</td>\n",
       "      <td>960.891724</td>\n",
       "      <td>887.388428</td>\n",
       "      <td>925.274353</td>\n",
       "      <td>21106643.0</td>\n",
       "      <td>2020</td>\n",
       "      <td>3</td>\n",
       "      <td>24</td>\n",
       "      <td>2.970599</td>\n",
       "    </tr>\n",
       "    <tr>\n",
       "      <th>6111</th>\n",
       "      <td>1085.510498</td>\n",
       "      <td>1106.412354</td>\n",
       "      <td>1032.562378</td>\n",
       "      <td>1045.714966</td>\n",
       "      <td>21111073.0</td>\n",
       "      <td>2020</td>\n",
       "      <td>3</td>\n",
       "      <td>26</td>\n",
       "      <td>3.023741</td>\n",
       "    </tr>\n",
       "    <tr>\n",
       "      <th>6112</th>\n",
       "      <td>1084.718018</td>\n",
       "      <td>1096.902466</td>\n",
       "      <td>1036.376221</td>\n",
       "      <td>1045.126465</td>\n",
       "      <td>19225132.0</td>\n",
       "      <td>2020</td>\n",
       "      <td>3</td>\n",
       "      <td>27</td>\n",
       "      <td>3.023497</td>\n",
       "    </tr>\n",
       "    <tr>\n",
       "      <th>6113</th>\n",
       "      <td>1030.828735</td>\n",
       "      <td>1064.707642</td>\n",
       "      <td>1010.422180</td>\n",
       "      <td>1010.651855</td>\n",
       "      <td>13951078.0</td>\n",
       "      <td>2020</td>\n",
       "      <td>3</td>\n",
       "      <td>30</td>\n",
       "      <td>3.008930</td>\n",
       "    </tr>\n",
       "  </tbody>\n",
       "</table>\n",
       "<p>5705 rows × 9 columns</p>\n",
       "</div>"
      ],
      "text/plain": [
       "             Open         High          Low    Adj Close       Volume  Year  \\\n",
       "0       15.878770    15.956133    15.677626    10.396508   77875009.0  1996   \n",
       "1       16.052837    16.783918    15.878770    10.475444   96602936.0  1996   \n",
       "2       15.762726    15.813012    15.553845    10.378684  100099436.0  1996   \n",
       "3       15.704703    15.704703    15.522900    10.307388   76935930.0  1996   \n",
       "4       15.627340    15.638945    14.876918     9.894890   86288584.0  1996   \n",
       "...           ...          ...          ...          ...          ...   ...   \n",
       "6108   907.596863   941.079529   867.427673   867.064636   18769636.0  2020   \n",
       "6109   921.267334   960.891724   887.388428   925.274353   21106643.0  2020   \n",
       "6111  1085.510498  1106.412354  1032.562378  1045.714966   21111073.0  2020   \n",
       "6112  1084.718018  1096.902466  1036.376221  1045.126465   19225132.0  2020   \n",
       "6113  1030.828735  1064.707642  1010.422180  1010.651855   13951078.0  2020   \n",
       "\n",
       "      Month  Day  Close_log  \n",
       "0         1    2   1.198483  \n",
       "1         1    3   1.201768  \n",
       "2         1    4   1.197738  \n",
       "3         1    5   1.194744  \n",
       "4         1    8   1.177007  \n",
       "...     ...  ...        ...  \n",
       "6108      3   23   2.942380  \n",
       "6109      3   24   2.970599  \n",
       "6111      3   26   3.023741  \n",
       "6112      3   27   3.023497  \n",
       "6113      3   30   3.008930  \n",
       "\n",
       "[5705 rows x 9 columns]"
      ]
     },
     "execution_count": 47,
     "metadata": {},
     "output_type": "execute_result"
    }
   ],
   "source": [
    "log_df = df.drop(\"Close\", axis=1)\n",
    "log_df"
   ]
  },
  {
   "cell_type": "markdown",
   "id": "9fe2009b",
   "metadata": {},
   "source": [
    "### Training on Log10 Columns"
   ]
  },
  {
   "cell_type": "code",
   "execution_count": 48,
   "id": "c09c2155",
   "metadata": {},
   "outputs": [],
   "source": [
    "X = log_df.drop(\"Close_log\", axis=1)\n",
    "y = df[\"Close_log\"]"
   ]
  },
  {
   "cell_type": "code",
   "execution_count": 49,
   "id": "4aa253fd",
   "metadata": {},
   "outputs": [
    {
     "data": {
      "text/plain": [
       "((4564, 8), (1141, 8), (4564,), (1141,))"
      ]
     },
     "execution_count": 49,
     "metadata": {},
     "output_type": "execute_result"
    }
   ],
   "source": [
    "X_train, X_test, y_train, y_test = train_test_split(X, y, test_size=0.2, random_state=10)\n",
    "X_train.shape, X_test.shape, y_train.shape, y_test.shape"
   ]
  },
  {
   "cell_type": "code",
   "execution_count": 50,
   "id": "cf1a1319",
   "metadata": {},
   "outputs": [],
   "source": [
    "r2_score_dict['Linear Regression'] = simple_train_model(LinearRegression())\n",
    "r2_score_dict['Random Forest Regressor'] = simple_train_model(RandomForestRegressor())\n",
    "r2_score_dict['Ridge'] = simple_train_model(Ridge())\n",
    "r2_score_dict['Lasso'] = simple_train_model(Lasso())\n",
    "r2_score_dict['Decision Tree Regressor'] = simple_train_model(DecisionTreeRegressor())"
   ]
  },
  {
   "cell_type": "code",
   "execution_count": 51,
   "id": "e97f7a8b",
   "metadata": {},
   "outputs": [
    {
     "name": "stdout",
     "output_type": "stream",
     "text": [
      "                              MSE  R2 Score\n",
      "Linear Regression        0.007079  0.977920\n",
      "Random Forest Regressor  0.000017  0.999948\n",
      "Ridge                    0.007079  0.977920\n",
      "Lasso                    0.035431  0.870334\n",
      "Decision Tree Regressor  0.000030  0.999907\n"
     ]
    }
   ],
   "source": [
    "r2_df = pd.DataFrame.from_dict(r2_score_dict, orient='index', columns=['MSE', 'R2 Score'])\n",
    "\n",
    "print(r2_df)"
   ]
  },
  {
   "cell_type": "markdown",
   "id": "59ecc065",
   "metadata": {},
   "source": [
    "### Ploting Score Graphs"
   ]
  },
  {
   "cell_type": "code",
   "execution_count": 52,
   "id": "ce7065e7",
   "metadata": {},
   "outputs": [
    {
     "data": {
      "image/png": "[encoded data removed]",
      "text/plain": [
       "<Figure size 1000x600 with 1 Axes>"
      ]
     },
     "metadata": {},
     "output_type": "display_data"
    }
   ],
   "source": [
    "r2_df['R2 Score'].plot(kind='bar', rot=0, figsize=(10, 6))\n",
    "plt.xlabel('Algorithm')\n",
    "plt.ylabel('R2 Score')\n",
    "plt.title('R2 Score of Algorithms')\n",
    "plt.savefig('r2_scores_graph.png')\n",
    "plt.show()"
   ]
  },
  {
   "cell_type": "code",
   "execution_count": 53,
   "id": "4dea52cb",
   "metadata": {},
   "outputs": [
    {
     "data": {
      "image/png": "[encoded data removed]",
      "text/plain": [
       "<Figure size 1000x600 with 1 Axes>"
      ]
     },
     "metadata": {},
     "output_type": "display_data"
    }
   ],
   "source": [
    "r2_df['MSE'].plot(kind='bar', rot=0, figsize=(10, 6))\n",
    "plt.xlabel('Algorithm')\n",
    "plt.ylabel('Mean Squared Error')\n",
    "plt.title('Mean Squared Error of Algorithms')\n",
    "plt.savefig('MSE_scores_graph.png')\n",
    "plt.show()"
   ]
  },
  {
   "cell_type": "code",
   "execution_count": 54,
   "id": "07dfc28e",
   "metadata": {},
   "outputs": [
    {
     "data": {
      "image/png": "[encoded data removed]",
      "text/plain": [
       "<Figure size 1000x600 with 1 Axes>"
      ]
     },
     "metadata": {},
     "output_type": "display_data"
    }
   ],
   "source": [
    "ax = r2_df['R2 Score'].plot(kind='bar', rot=0, figsize=(10, 6), color=['#27374D', '#545B77','#526D82', '#9DB2BF', '#DDE6ED'])\n",
    "plt.xlabel('Algorithm')\n",
    "plt.ylabel('R2 Score')\n",
    "plt.title('R2 Score of Algorithms')\n",
    "\n",
    "# Add value labels to the bars\n",
    "for p in ax.patches:\n",
    "    ax.annotate(format(p.get_height(), '.6f'), (p.get_x() + p.get_width() / 2., p.get_height()), \n",
    "                ha = 'center', va = 'center', xytext = (0, 10), textcoords = 'offset points')\n",
    "plt.savefig('r2_scores_graph.png')"
   ]
  },
  {
   "cell_type": "code",
   "execution_count": 55,
   "id": "ee758665",
   "metadata": {},
   "outputs": [
    {
     "data": {
      "image/png": "[encoded data removed]",
      "text/plain": [
       "<Figure size 1000x600 with 1 Axes>"
      ]
     },
     "metadata": {},
     "output_type": "display_data"
    }
   ],
   "source": [
    "ax = r2_df['MSE'].plot(kind='bar', rot=0, figsize=(10, 6), color=['#27374D', '#545B77','#526D82', '#9DB2BF', '#DDE6ED'])\n",
    "plt.xlabel('Algorithm')\n",
    "plt.ylabel('MSE Score')\n",
    "plt.title('Mean Squared Error of Algorithms')\n",
    "\n",
    "# Add value labels to the bars\n",
    "for p in ax.patches:\n",
    "    ax.annotate(format(p.get_height(), '.6f'), (p.get_x() + p.get_width() / 2., p.get_height()), \n",
    "                ha = 'center', va = 'center', xytext = (0, 10), textcoords = 'offset points')\n",
    "plt.savefig('MSE_scores_graph.png')"
   ]
  },
  {
   "cell_type": "code",
   "execution_count": null,
   "id": "ddfb01fb",
   "metadata": {},
   "outputs": [],
   "source": []
  },
  {
   "cell_type": "code",
   "execution_count": null,
   "id": "d669619b",
   "metadata": {},
   "outputs": [],
   "source": []
  }
 ],
 "metadata": {
  "kernelspec": {
   "display_name": "Python 3 (ipykernel)",
   "language": "python",
   "name": "python3"
  },
  "language_info": {
   "codemirror_mode": {
    "name": "ipython",
    "version": 3
   },
   "file_extension": ".py",
   "mimetype": "text/x-python",
   "name": "python",
   "nbconvert_exporter": "python",
   "pygments_lexer": "ipython3",
   "version": "3.9.12"
  }
 },
 "nbformat": 4,
 "nbformat_minor": 5
}
